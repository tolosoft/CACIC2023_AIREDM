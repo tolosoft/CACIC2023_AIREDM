{
 "cells": [
  {
   "cell_type": "code",
   "execution_count": 139,
   "id": "e35be00b-3e76-4a3e-aa38-f8ab0440a5d4",
   "metadata": {},
   "outputs": [],
   "source": [
    "import pandas as pd\n",
    "import numpy as np\n",
    "#\n",
    "import faiss\n",
    "import pyterrier as pt"
   ]
  },
  {
   "cell_type": "code",
   "execution_count": 140,
   "id": "c3d13454-ab7e-4080-81c2-8754d7a72338",
   "metadata": {},
   "outputs": [],
   "source": [
    "if not pt.started():\n",
    "    pt.init()"
   ]
  },
  {
   "cell_type": "code",
   "execution_count": 245,
   "id": "d489c49e-4d90-4a23-8614-7c5a4d423379",
   "metadata": {},
   "outputs": [],
   "source": [
    "# Intersección\n",
    "def list_intersection(l1, l2):\n",
    "    s1 = set(l1.tolist()[0])\n",
    "    s2 = set(l2.tolist()[0])\n",
    "    return len(s1.intersection(s2)) / len(s1)"
   ]
  },
  {
   "cell_type": "code",
   "execution_count": 141,
   "id": "879e03f4-1dbe-4da8-af59-47e388f71936",
   "metadata": {},
   "outputs": [
    {
     "name": "stdout",
     "output_type": "stream",
     "text": [
      "Corpus Vaswani: ['/home/jovyan/.pyterrier/corpora/vaswani/corpus/doc-text.trec'] \n"
     ]
    }
   ],
   "source": [
    "dataset = pt.get_dataset(\"vaswani\")\n",
    "print(\"Corpus Vaswani: %s \" % dataset.get_corpus())"
   ]
  },
  {
   "cell_type": "code",
   "execution_count": 142,
   "id": "3f461fee-73ad-4696-9dbd-424c33517bbc",
   "metadata": {},
   "outputs": [
    {
     "data": {
      "text/plain": [
       "(11429, 2)"
      ]
     },
     "execution_count": 142,
     "metadata": {},
     "output_type": "execute_result"
    }
   ],
   "source": [
    "documents = pd.DataFrame(dataset.get_corpus_iter())\n",
    "documents.shape"
   ]
  },
  {
   "cell_type": "code",
   "execution_count": 143,
   "id": "f5c707a9-1d4a-48b3-b5b7-e49811a12aa8",
   "metadata": {},
   "outputs": [
    {
     "data": {
      "text/html": [
       "<div>\n",
       "<style scoped>\n",
       "    .dataframe tbody tr th:only-of-type {\n",
       "        vertical-align: middle;\n",
       "    }\n",
       "\n",
       "    .dataframe tbody tr th {\n",
       "        vertical-align: top;\n",
       "    }\n",
       "\n",
       "    .dataframe thead th {\n",
       "        text-align: right;\n",
       "    }\n",
       "</style>\n",
       "<table border=\"1\" class=\"dataframe\">\n",
       "  <thead>\n",
       "    <tr style=\"text-align: right;\">\n",
       "      <th></th>\n",
       "      <th>docno</th>\n",
       "      <th>text</th>\n",
       "    </tr>\n",
       "  </thead>\n",
       "  <tbody>\n",
       "    <tr>\n",
       "      <th>0</th>\n",
       "      <td>1</td>\n",
       "      <td>compact memories have flexible capacities  a d...</td>\n",
       "    </tr>\n",
       "    <tr>\n",
       "      <th>1</th>\n",
       "      <td>2</td>\n",
       "      <td>an electronic analogue computer for solving sy...</td>\n",
       "    </tr>\n",
       "    <tr>\n",
       "      <th>2</th>\n",
       "      <td>3</td>\n",
       "      <td>electronic coordinate transformer  circuit det...</td>\n",
       "    </tr>\n",
       "    <tr>\n",
       "      <th>3</th>\n",
       "      <td>4</td>\n",
       "      <td>the british computer society  report of a conf...</td>\n",
       "    </tr>\n",
       "    <tr>\n",
       "      <th>4</th>\n",
       "      <td>5</td>\n",
       "      <td>millimicrosecond digital computer logic  a sys...</td>\n",
       "    </tr>\n",
       "  </tbody>\n",
       "</table>\n",
       "</div>"
      ],
      "text/plain": [
       "  docno                                               text\n",
       "0     1  compact memories have flexible capacities  a d...\n",
       "1     2  an electronic analogue computer for solving sy...\n",
       "2     3  electronic coordinate transformer  circuit det...\n",
       "3     4  the british computer society  report of a conf...\n",
       "4     5  millimicrosecond digital computer logic  a sys..."
      ]
     },
     "execution_count": 143,
     "metadata": {},
     "output_type": "execute_result"
    }
   ],
   "source": [
    "documents.head()"
   ]
  },
  {
   "cell_type": "code",
   "execution_count": 255,
   "id": "0427bbe1-349d-4e22-936f-3327a285dc7c",
   "metadata": {},
   "outputs": [
    {
     "name": "stdout",
     "output_type": "stream",
     "text": [
      "CPU times: user 3 µs, sys: 1 µs, total: 4 µs\n",
      "Wall time: 8.11 µs\n"
     ]
    }
   ],
   "source": [
    "%time\n",
    "from sentence_transformers import SentenceTransformer, util\n",
    "# model = SentenceTransformer('lambdaofgod/paperswithcode_word2vec') -> = 200\n",
    "model = SentenceTransformer('sentence-transformers/distiluse-base-multilingual-cased-v2')"
   ]
  },
  {
   "cell_type": "code",
   "execution_count": 145,
   "id": "56728c25-e3d0-401b-81bd-d1b3a0636a7e",
   "metadata": {},
   "outputs": [
    {
     "name": "stdout",
     "output_type": "stream",
     "text": [
      "CPU times: user 1.38 s, sys: 0 ns, total: 1.38 s\n",
      "Wall time: 243 ms\n"
     ]
    },
    {
     "data": {
      "text/plain": [
       "torch.Size([10, 512])"
      ]
     },
     "execution_count": 145,
     "metadata": {},
     "output_type": "execute_result"
    }
   ],
   "source": [
    "%%time\n",
    "doc_text = list(documents['text'].head(10))\n",
    "demo_embeddings = model.encode(doc_text, convert_to_tensor=True)\n",
    "demo_embeddings.shape"
   ]
  },
  {
   "cell_type": "code",
   "execution_count": 146,
   "id": "e9ab99f5-e0c8-4cd3-8bff-74c2542e4323",
   "metadata": {},
   "outputs": [
    {
     "data": {
      "text/plain": [
       "tensor([[ 0.0614, -0.0944, -0.0086,  ...,  0.0350, -0.0895, -0.0111],\n",
       "        [ 0.0996,  0.0078, -0.0476,  ...,  0.0371,  0.0203, -0.0325],\n",
       "        [-0.0075,  0.0093,  0.0643,  ...,  0.0002,  0.0575,  0.0012],\n",
       "        ...,\n",
       "        [-0.0089,  0.0054, -0.0719,  ...,  0.0742,  0.0291, -0.0338],\n",
       "        [-0.0508, -0.0300,  0.0256,  ...,  0.0251,  0.0359, -0.0189],\n",
       "        [-0.0164, -0.0149, -0.0017,  ...,  0.0121, -0.0213, -0.0095]])"
      ]
     },
     "execution_count": 146,
     "metadata": {},
     "output_type": "execute_result"
    }
   ],
   "source": [
    "demo_embeddings"
   ]
  },
  {
   "cell_type": "code",
   "execution_count": null,
   "id": "2383908b-f6b5-4a20-ac9a-3a974d44e548",
   "metadata": {},
   "outputs": [],
   "source": []
  },
  {
   "cell_type": "code",
   "execution_count": 147,
   "id": "2f971e5b-e20e-4316-9c1f-1dff489655b5",
   "metadata": {},
   "outputs": [
    {
     "data": {
      "text/plain": [
       "(11429, 512)"
      ]
     },
     "execution_count": 147,
     "metadata": {},
     "output_type": "execute_result"
    }
   ],
   "source": [
    "# Cargo los embeddings de todos los docs previamente calculados.\n",
    "vaswani_docs_embeddings = np.load(\"./vaswani_docs_embeddings-512.npy\")\n",
    "vaswani_docs_embeddings.shape"
   ]
  },
  {
   "cell_type": "code",
   "execution_count": 148,
   "id": "fdac2c14-45c3-444b-8ad0-6757123855e2",
   "metadata": {},
   "outputs": [
    {
     "data": {
      "text/html": [
       "<div>\n",
       "<style scoped>\n",
       "    .dataframe tbody tr th:only-of-type {\n",
       "        vertical-align: middle;\n",
       "    }\n",
       "\n",
       "    .dataframe tbody tr th {\n",
       "        vertical-align: top;\n",
       "    }\n",
       "\n",
       "    .dataframe thead th {\n",
       "        text-align: right;\n",
       "    }\n",
       "</style>\n",
       "<table border=\"1\" class=\"dataframe\">\n",
       "  <thead>\n",
       "    <tr style=\"text-align: right;\">\n",
       "      <th></th>\n",
       "      <th>qid</th>\n",
       "      <th>query</th>\n",
       "    </tr>\n",
       "  </thead>\n",
       "  <tbody>\n",
       "    <tr>\n",
       "      <th>0</th>\n",
       "      <td>1</td>\n",
       "      <td>measurement of dielectric constant of liquids ...</td>\n",
       "    </tr>\n",
       "    <tr>\n",
       "      <th>1</th>\n",
       "      <td>2</td>\n",
       "      <td>mathematical analysis and design details of wa...</td>\n",
       "    </tr>\n",
       "    <tr>\n",
       "      <th>2</th>\n",
       "      <td>3</td>\n",
       "      <td>use of digital computers in the design of band...</td>\n",
       "    </tr>\n",
       "    <tr>\n",
       "      <th>3</th>\n",
       "      <td>4</td>\n",
       "      <td>systems of data coding for information transfer</td>\n",
       "    </tr>\n",
       "    <tr>\n",
       "      <th>4</th>\n",
       "      <td>5</td>\n",
       "      <td>use of programs in engineering testing of comp...</td>\n",
       "    </tr>\n",
       "  </tbody>\n",
       "</table>\n",
       "</div>"
      ],
      "text/plain": [
       "  qid                                              query\n",
       "0   1  measurement of dielectric constant of liquids ...\n",
       "1   2  mathematical analysis and design details of wa...\n",
       "2   3  use of digital computers in the design of band...\n",
       "3   4    systems of data coding for information transfer\n",
       "4   5  use of programs in engineering testing of comp..."
      ]
     },
     "execution_count": 148,
     "metadata": {},
     "output_type": "execute_result"
    }
   ],
   "source": [
    "# Obtengo los 'topics' asociados al corpus\n",
    "topics = dataset.get_topics()\n",
    "topics.head()"
   ]
  },
  {
   "cell_type": "code",
   "execution_count": 149,
   "id": "602dd17b-5bc6-43a3-b95e-dc94d40918b7",
   "metadata": {},
   "outputs": [
    {
     "data": {
      "text/plain": [
       "(93, 512)"
      ]
     },
     "execution_count": 149,
     "metadata": {},
     "output_type": "execute_result"
    }
   ],
   "source": [
    "# Cargo los embeddings de todos los queries previamente calculados.\n",
    "vaswani_query_embeddings = np.load(\"./vaswani_query_embeddings-512.npy\")\n",
    "vaswani_query_embeddings.shape"
   ]
  },
  {
   "cell_type": "markdown",
   "id": "a81311d9-7243-4952-8141-345e81929735",
   "metadata": {},
   "source": [
    "### Indexación con FAISS (diferentes índices)\n",
    "**Más sobre los tipos de índices en FAISS:** https://github.com/facebookresearch/faiss/wiki/Faiss-indexes"
   ]
  },
  {
   "cell_type": "markdown",
   "id": "e0a25c0e-d6d6-41fd-89e8-ecc0e9c86baf",
   "metadata": {},
   "source": [
    "**Prueba 1 - Flat Index**  \n",
    "Recordar: En este tipo de índice se mide la distancia L2 (euclídea) entre el vector de query \n",
    "y todos los vectores de documentos almacenados. Es simple y preciso (pero no demasiado rápido)."
   ]
  },
  {
   "cell_type": "code",
   "execution_count": 159,
   "id": "e0b068b8-4ea1-4adf-9bca-e2035f4217f4",
   "metadata": {},
   "outputs": [
    {
     "data": {
      "text/plain": [
       "0"
      ]
     },
     "execution_count": 159,
     "metadata": {},
     "output_type": "execute_result"
    }
   ],
   "source": [
    "# Inicialización\n",
    "d = 512\n",
    "indexFlat = faiss.IndexFlatL2(d)\n",
    "\n",
    "# Chequeo cantidad de docs en el índice\n",
    "indexFlat.ntotal"
   ]
  },
  {
   "cell_type": "code",
   "execution_count": 167,
   "id": "4616c228-6a95-4db5-8b60-16f0cbd2aed4",
   "metadata": {},
   "outputs": [
    {
     "name": "stdout",
     "output_type": "stream",
     "text": [
      "CPU times: user 4 µs, sys: 1 µs, total: 5 µs\n",
      "Wall time: 8.34 µs\n"
     ]
    },
    {
     "data": {
      "text/plain": [
       "11429"
      ]
     },
     "execution_count": 167,
     "metadata": {},
     "output_type": "execute_result"
    }
   ],
   "source": [
    "# Agrego los documentos al índice\n",
    "%time\n",
    "indexFlat.add(vaswani_docs_embeddings)\n",
    "indexFlat.ntotal"
   ]
  },
  {
   "cell_type": "code",
   "execution_count": 168,
   "id": "894972f1-f026-4b8d-b9a5-71e3aedf9ca4",
   "metadata": {},
   "outputs": [
    {
     "data": {
      "text/plain": [
       "True"
      ]
     },
     "execution_count": 168,
     "metadata": {},
     "output_type": "execute_result"
    }
   ],
   "source": [
    "indexFlat.is_trained"
   ]
  },
  {
   "cell_type": "code",
   "execution_count": 169,
   "id": "73a3fa99-6086-46c9-b71f-856fb31f6640",
   "metadata": {},
   "outputs": [],
   "source": [
    "# Ejemplo de recuperación\n",
    "k = 5\n",
    "query_vector = np.array([vaswani_query_embeddings[0]])"
   ]
  },
  {
   "cell_type": "code",
   "execution_count": 170,
   "id": "6378b276-1082-479d-bace-5dc5b05b18b0",
   "metadata": {},
   "outputs": [
    {
     "name": "stdout",
     "output_type": "stream",
     "text": [
      "CPU times: user 14 µs, sys: 3 µs, total: 17 µs\n",
      "Wall time: 31.2 µs\n"
     ]
    }
   ],
   "source": [
    "%time\n",
    "DFlat, rsFlat = indexFlat.search(query_vector, k)  # Búsqueda"
   ]
  },
  {
   "cell_type": "code",
   "execution_count": 171,
   "id": "345d097f-9ae2-4ab3-8078-71514b3a08dc",
   "metadata": {},
   "outputs": [
    {
     "name": "stdout",
     "output_type": "stream",
     "text": [
      "[[1501 7125 1087 1896 1987]]\n"
     ]
    }
   ],
   "source": [
    "print(rsFlat)"
   ]
  },
  {
   "cell_type": "code",
   "execution_count": 172,
   "id": "e346d09f-68a8-4a6c-aaad-127cc79235e5",
   "metadata": {},
   "outputs": [
    {
     "data": {
      "text/plain": [
       "array([[0.49462646, 0.76442146, 0.8314605 , 0.8432368 , 0.8441225 ]],\n",
       "      dtype=float32)"
      ]
     },
     "execution_count": 172,
     "metadata": {},
     "output_type": "execute_result"
    }
   ],
   "source": [
    "DFlat"
   ]
  },
  {
   "cell_type": "code",
   "execution_count": 209,
   "id": "aef5ee7e-d8a1-4618-95d8-a66323a30e12",
   "metadata": {},
   "outputs": [],
   "source": [
    "faiss.write_index(indexFlat, \"vaswani_faiss_flat.ndx\")"
   ]
  },
  {
   "cell_type": "markdown",
   "id": "2b74afeb-b128-4239-878a-f389949e6fec",
   "metadata": {},
   "source": [
    "**Prueba 2 - IVF Flat Index**  \n",
    "Recordar: En este tipo de índice se particiona el espacio de búsqueda (nlist) para realizar\n",
    "un ANN."
   ]
  },
  {
   "cell_type": "code",
   "execution_count": 180,
   "id": "537dc825-62c3-448b-9b77-23456ab371b0",
   "metadata": {},
   "outputs": [],
   "source": [
    "nlist = 50  # Cantidad de celdas\n",
    "quantizer = faiss.IndexFlatL2(d)\n",
    "indexIVFFlat = faiss.IndexIVFFlat(quantizer, d, nlist)"
   ]
  },
  {
   "cell_type": "code",
   "execution_count": 184,
   "id": "1c8fa3b5-429f-4a35-b7b5-925bf9dcc0c2",
   "metadata": {},
   "outputs": [
    {
     "data": {
      "text/plain": [
       "True"
      ]
     },
     "execution_count": 184,
     "metadata": {},
     "output_type": "execute_result"
    }
   ],
   "source": [
    "indexIVFFlat.is_trained"
   ]
  },
  {
   "cell_type": "code",
   "execution_count": 183,
   "id": "465a20b3-b7b5-41d3-9b93-f18862dc9c01",
   "metadata": {},
   "outputs": [
    {
     "name": "stdout",
     "output_type": "stream",
     "text": [
      "CPU times: user 3 µs, sys: 1 µs, total: 4 µs\n",
      "Wall time: 7.87 µs\n"
     ]
    },
    {
     "data": {
      "text/plain": [
       "0"
      ]
     },
     "execution_count": 183,
     "metadata": {},
     "output_type": "execute_result"
    }
   ],
   "source": [
    "# Preparo (train) las estructuras de datos del índice\n",
    "%time\n",
    "indexIVFFlat.train(vaswani_docs_embeddings)\n",
    "indexIVFFlat.ntotal"
   ]
  },
  {
   "cell_type": "code",
   "execution_count": 185,
   "id": "49a573f0-d502-4813-b9cc-db86b2099326",
   "metadata": {},
   "outputs": [
    {
     "data": {
      "text/plain": [
       "True"
      ]
     },
     "execution_count": 185,
     "metadata": {},
     "output_type": "execute_result"
    }
   ],
   "source": [
    "indexIVFFlat.is_trained"
   ]
  },
  {
   "cell_type": "code",
   "execution_count": 188,
   "id": "94617936-b551-4c44-8459-32558ebdb2f9",
   "metadata": {},
   "outputs": [
    {
     "data": {
      "text/plain": [
       "11429"
      ]
     },
     "execution_count": 188,
     "metadata": {},
     "output_type": "execute_result"
    }
   ],
   "source": [
    "# Agrego los documentos al índice\n",
    "indexIVFFlat.add(vaswani_docs_embeddings)\n",
    "indexIVFFlat.ntotal"
   ]
  },
  {
   "cell_type": "code",
   "execution_count": 189,
   "id": "42ba3bc3-acda-4d96-8485-b8caed3cbcba",
   "metadata": {},
   "outputs": [],
   "source": [
    "# Ejemplo de recuperación\n",
    "k = 5\n",
    "query_vector = np.array([vaswani_query_embeddings[0]])"
   ]
  },
  {
   "cell_type": "code",
   "execution_count": 190,
   "id": "e6ab3f77-2685-44e4-a392-bd1b224118c0",
   "metadata": {},
   "outputs": [
    {
     "name": "stdout",
     "output_type": "stream",
     "text": [
      "CPU times: user 3 µs, sys: 1e+03 ns, total: 4 µs\n",
      "Wall time: 7.87 µs\n"
     ]
    }
   ],
   "source": [
    "%time\n",
    "DIVFFlat, rsIVFFlat = indexIVFFlat.search(query_vector, k)  # Búsqueda"
   ]
  },
  {
   "cell_type": "code",
   "execution_count": 191,
   "id": "77037de2-f692-465c-9903-ca1e6efaf198",
   "metadata": {},
   "outputs": [
    {
     "data": {
      "text/plain": [
       "array([[8275, 4255, 8581, 8481,   57]])"
      ]
     },
     "execution_count": 191,
     "metadata": {},
     "output_type": "execute_result"
    }
   ],
   "source": [
    "rsIVFFlat"
   ]
  },
  {
   "cell_type": "code",
   "execution_count": 246,
   "id": "e892ff33-ed29-4042-9e8b-d87c6b38e424",
   "metadata": {},
   "outputs": [
    {
     "data": {
      "text/plain": [
       "0.8"
      ]
     },
     "execution_count": 246,
     "metadata": {},
     "output_type": "execute_result"
    }
   ],
   "source": [
    "list_intersection(rsFlat, rsIVFFlat)"
   ]
  },
  {
   "cell_type": "code",
   "execution_count": 194,
   "id": "697ae04b-ac6e-4b81-8a6a-d457aefc5f43",
   "metadata": {},
   "outputs": [],
   "source": [
    "indexIVFFlat.nprobe = 10 # Aumentamos el ámbito de búsqueda a 10 celdas\n",
    "DIVFFlat, rsIVFFlat = indexIVFFlat.search(query_vector, k)  # Búsqueda"
   ]
  },
  {
   "cell_type": "code",
   "execution_count": 195,
   "id": "50dc0b2e-83ad-4200-9305-207fff590df1",
   "metadata": {},
   "outputs": [
    {
     "data": {
      "text/plain": [
       "array([[1501, 7125, 1896, 1987, 4816]])"
      ]
     },
     "execution_count": 195,
     "metadata": {},
     "output_type": "execute_result"
    }
   ],
   "source": [
    "rsIVFFlat"
   ]
  },
  {
   "cell_type": "code",
   "execution_count": 210,
   "id": "b3956a73-acb1-461c-9991-4994e66c1970",
   "metadata": {},
   "outputs": [],
   "source": [
    "faiss.write_index(indexIVFFlat, \"vaswani_faiss_ivfflat.ndx\")"
   ]
  },
  {
   "cell_type": "markdown",
   "id": "74612a0a-3118-42ea-b726-28abbd83392a",
   "metadata": {},
   "source": [
    "**Prueba 3 - IVF Flat Index con Product Quantization**  \n",
    "Recordar: En este tipo de índice se aplica Product Quantization para reducir (comprimir) los vectores. \n",
    "Luego se ejecuta ANN."
   ]
  },
  {
   "cell_type": "code",
   "execution_count": 199,
   "id": "a44084e0-8695-4b13-ad04-ab1e864329e9",
   "metadata": {},
   "outputs": [],
   "source": [
    "m = 8  # number of centroid IDs in final compressed vectors\n",
    "bits = 8 # number of bits in each centroid\n",
    "\n",
    "quantizer = faiss.IndexFlatL2(d)  # we keep the same L2 distance flat index\n",
    "indexIVFPQ = faiss.IndexIVFPQ(quantizer, d, nlist, m, bits) "
   ]
  },
  {
   "cell_type": "code",
   "execution_count": 200,
   "id": "d836a57c-5383-403a-916f-9e5f21a47cee",
   "metadata": {},
   "outputs": [
    {
     "data": {
      "text/plain": [
       "False"
      ]
     },
     "execution_count": 200,
     "metadata": {},
     "output_type": "execute_result"
    }
   ],
   "source": [
    "indexIVFPQ.is_trained"
   ]
  },
  {
   "cell_type": "code",
   "execution_count": 201,
   "id": "f24a48a7-38a3-4347-abf0-6592908a10d0",
   "metadata": {},
   "outputs": [
    {
     "name": "stdout",
     "output_type": "stream",
     "text": [
      "CPU times: user 15 µs, sys: 3 µs, total: 18 µs\n",
      "Wall time: 33.4 µs\n"
     ]
    },
    {
     "data": {
      "text/plain": [
       "0"
      ]
     },
     "execution_count": 201,
     "metadata": {},
     "output_type": "execute_result"
    }
   ],
   "source": [
    "# Preparo (train) las estructuras de datos del índice\n",
    "%time\n",
    "indexIVFPQ.train(vaswani_docs_embeddings)\n",
    "indexIVFPQ.ntotal"
   ]
  },
  {
   "cell_type": "code",
   "execution_count": 202,
   "id": "2d8681ff-a8d7-4cf5-98e4-c8d686b166db",
   "metadata": {},
   "outputs": [
    {
     "data": {
      "text/plain": [
       "11429"
      ]
     },
     "execution_count": 202,
     "metadata": {},
     "output_type": "execute_result"
    }
   ],
   "source": [
    "# Agrego los documentos al índice\n",
    "indexIVFPQ.add(vaswani_docs_embeddings)\n",
    "indexIVFPQ.ntotal"
   ]
  },
  {
   "cell_type": "code",
   "execution_count": 203,
   "id": "b8e61c2b-1149-438f-8e0a-2192a2d6963f",
   "metadata": {},
   "outputs": [],
   "source": [
    "# Ejemplo de recuperación\n",
    "k = 5\n",
    "query_vector = np.array([vaswani_query_embeddings[0]])"
   ]
  },
  {
   "cell_type": "code",
   "execution_count": 204,
   "id": "4abe051b-afb8-4d6f-bae1-fe93935e6bcc",
   "metadata": {},
   "outputs": [
    {
     "name": "stdout",
     "output_type": "stream",
     "text": [
      "CPU times: user 4 µs, sys: 0 ns, total: 4 µs\n",
      "Wall time: 7.63 µs\n"
     ]
    }
   ],
   "source": [
    "%time\n",
    "DIVFPQ, rsIVFPQ = indexIVFPQ.search(query_vector, k)  # Búsqueda"
   ]
  },
  {
   "cell_type": "code",
   "execution_count": 205,
   "id": "65b582ba-356b-412d-9896-48b9b2480eda",
   "metadata": {},
   "outputs": [
    {
     "data": {
      "text/plain": [
       "array([[1519, 8275, 3326, 4255, 8481]])"
      ]
     },
     "execution_count": 205,
     "metadata": {},
     "output_type": "execute_result"
    }
   ],
   "source": [
    "rsIVFPQ"
   ]
  },
  {
   "cell_type": "code",
   "execution_count": 252,
   "id": "a49108e6-5983-4773-8b55-7f3a49ad4d74",
   "metadata": {},
   "outputs": [
    {
     "name": "stdout",
     "output_type": "stream",
     "text": [
      "CPU times: user 3 µs, sys: 0 ns, total: 3 µs\n",
      "Wall time: 7.39 µs\n"
     ]
    }
   ],
   "source": [
    "indexIVFPQ.nprobe = 10\n",
    "%time\n",
    "DIVFPQ, rsIVFPQ = indexIVFPQ.search(query_vector, k)  # Búsqueda"
   ]
  },
  {
   "cell_type": "code",
   "execution_count": 253,
   "id": "2264f4a7-0eb8-4a14-963a-871c1f243acc",
   "metadata": {},
   "outputs": [
    {
     "data": {
      "text/plain": [
       "array([[1501, 7125, 4249, 1519, 9829]])"
      ]
     },
     "execution_count": 253,
     "metadata": {},
     "output_type": "execute_result"
    }
   ],
   "source": [
    "rsIVFPQ"
   ]
  },
  {
   "cell_type": "code",
   "execution_count": 254,
   "id": "e326716b-da00-4fa5-bc11-045ccb500ac8",
   "metadata": {},
   "outputs": [],
   "source": [
    "faiss.write_index(indexIVFPQ, \"vaswani_faiss_ivfpq.ndx\")"
   ]
  },
  {
   "cell_type": "code",
   "execution_count": null,
   "id": "e7dfd37b-3704-4f89-be2b-bb6d0ff33ccf",
   "metadata": {},
   "outputs": [],
   "source": []
  },
  {
   "cell_type": "markdown",
   "id": "31862a61-539c-4e2a-8592-8625f812862d",
   "metadata": {},
   "source": [
    "### Tarea \n",
    "**Ejecutar todo el set de consultas y calcular el solapamiento promedio de las listas de \n",
    "resultados para nprobe = [1 .. 10]**"
   ]
  },
  {
   "cell_type": "code",
   "execution_count": null,
   "id": "dbc1817b-7df7-4a15-ad4d-1ed4639a759e",
   "metadata": {},
   "outputs": [],
   "source": []
  }
 ],
 "metadata": {
  "kernelspec": {
   "display_name": "Python 3 (ipykernel)",
   "language": "python",
   "name": "python3"
  },
  "language_info": {
   "codemirror_mode": {
    "name": "ipython",
    "version": 3
   },
   "file_extension": ".py",
   "mimetype": "text/x-python",
   "name": "python",
   "nbconvert_exporter": "python",
   "pygments_lexer": "ipython3",
   "version": "3.11.4"
  }
 },
 "nbformat": 4,
 "nbformat_minor": 5
}
