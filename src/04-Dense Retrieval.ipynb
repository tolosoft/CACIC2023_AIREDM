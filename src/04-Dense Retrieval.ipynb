{
 "cells": [
  {
   "cell_type": "code",
   "execution_count": null,
   "id": "e35be00b-3e76-4a3e-aa38-f8ab0440a5d4",
   "metadata": {},
   "outputs": [],
   "source": [
    "import pandas as pd\n",
    "import numpy as np\n",
    "#\n",
    "import faiss\n",
    "import pyterrier as pt"
   ]
  },
  {
   "cell_type": "code",
   "execution_count": null,
   "id": "c3d13454-ab7e-4080-81c2-8754d7a72338",
   "metadata": {},
   "outputs": [],
   "source": [
    "if not pt.started():\n",
    "    pt.init()"
   ]
  },
  {
   "cell_type": "code",
   "execution_count": null,
   "id": "d489c49e-4d90-4a23-8614-7c5a4d423379",
   "metadata": {},
   "outputs": [],
   "source": [
    "# Intersección\n",
    "def list_intersection(l1, l2):\n",
    "    s1 = set(l1.tolist()[0])\n",
    "    s2 = set(l2.tolist()[0])\n",
    "    return len(s1.intersection(s2)) / len(s1)"
   ]
  },
  {
   "cell_type": "markdown",
   "id": "4fb974c7-099b-4d94-9087-223a5a8ec738",
   "metadata": {},
   "source": [
    "---\n",
    "### MAIN\n",
    "---"
   ]
  },
  {
   "cell_type": "code",
   "execution_count": null,
   "id": "879e03f4-1dbe-4da8-af59-47e388f71936",
   "metadata": {},
   "outputs": [],
   "source": [
    "dataset = pt.get_dataset(\"vaswani\")\n",
    "print(\"Corpus Vaswani: %s \" % dataset.get_corpus())"
   ]
  },
  {
   "cell_type": "code",
   "execution_count": null,
   "id": "3f461fee-73ad-4696-9dbd-424c33517bbc",
   "metadata": {},
   "outputs": [],
   "source": [
    "documents = pd.DataFrame(dataset.get_corpus_iter())\n",
    "documents.shape"
   ]
  },
  {
   "cell_type": "code",
   "execution_count": null,
   "id": "f5c707a9-1d4a-48b3-b5b7-e49811a12aa8",
   "metadata": {},
   "outputs": [],
   "source": [
    "documents.head()"
   ]
  },
  {
   "cell_type": "code",
   "execution_count": null,
   "id": "0427bbe1-349d-4e22-936f-3327a285dc7c",
   "metadata": {},
   "outputs": [],
   "source": [
    "#!pip install transformers\n",
    "#!pip install sentence-transformers\n",
    "#from sentence_transformers import SentenceTransformer, util\n",
    "#model = SentenceTransformer('sentence-transformers/distiluse-base-multilingual-cased-v2')\n",
    "\n",
    "#doc_text = list(documents['text'].head(10))\n",
    "#demo_embeddings = model.encode(doc_text, convert_to_tensor=True)\n",
    "#print (demo_embeddings.shape)\n",
    "#\n",
    "#demo_embeddings"
   ]
  },
  {
   "cell_type": "code",
   "execution_count": null,
   "id": "2f971e5b-e20e-4316-9c1f-1dff489655b5",
   "metadata": {},
   "outputs": [],
   "source": [
    "# Cargo los embeddings de todos los docs previamente calculados.\n",
    "vaswani_docs_embeddings = np.load(\"../data/vaswani_docs_embeddings-512.npy\")\n",
    "vaswani_docs_embeddings.shape"
   ]
  },
  {
   "cell_type": "code",
   "execution_count": null,
   "id": "5b220463-1e61-493c-89df-887a6774b3b7",
   "metadata": {},
   "outputs": [],
   "source": [
    "vaswani_docs_embeddings[1]"
   ]
  },
  {
   "cell_type": "code",
   "execution_count": null,
   "id": "fdac2c14-45c3-444b-8ad0-6757123855e2",
   "metadata": {},
   "outputs": [],
   "source": [
    "# Obtengo los 'topics' asociados al corpus\n",
    "topics = dataset.get_topics()\n",
    "topics.head()"
   ]
  },
  {
   "cell_type": "code",
   "execution_count": null,
   "id": "602dd17b-5bc6-43a3-b95e-dc94d40918b7",
   "metadata": {},
   "outputs": [],
   "source": [
    "# Cargo los embeddings de todos los queries previamente calculados.\n",
    "vaswani_query_embeddings = np.load(\"../data/vaswani_query_embeddings-512.npy\")\n",
    "vaswani_query_embeddings.shape"
   ]
  },
  {
   "cell_type": "markdown",
   "id": "a81311d9-7243-4952-8141-345e81929735",
   "metadata": {},
   "source": [
    "### Indexación con FAISS (diferentes índices)\n",
    "**Más sobre los tipos de índices en FAISS:** https://github.com/facebookresearch/faiss/wiki/Faiss-indexes"
   ]
  },
  {
   "cell_type": "markdown",
   "id": "e0a25c0e-d6d6-41fd-89e8-ecc0e9c86baf",
   "metadata": {},
   "source": [
    "**Prueba 1 - Flat Index**  \n",
    "Recordar: En este tipo de índice se mide la distancia L2 (euclídea) entre el vector de query \n",
    "y todos los vectores de documentos almacenados. Es simple y preciso (pero no demasiado rápido)."
   ]
  },
  {
   "cell_type": "code",
   "execution_count": null,
   "id": "e0b068b8-4ea1-4adf-9bca-e2035f4217f4",
   "metadata": {},
   "outputs": [],
   "source": [
    "# Inicialización\n",
    "d = 512\n",
    "indexFlat = faiss.IndexFlatL2(d)\n",
    "\n",
    "# Chequeo cantidad de docs en el índice\n",
    "indexFlat.ntotal"
   ]
  },
  {
   "cell_type": "code",
   "execution_count": null,
   "id": "4616c228-6a95-4db5-8b60-16f0cbd2aed4",
   "metadata": {},
   "outputs": [],
   "source": [
    "# Agrego los documentos al índice\n",
    "%time\n",
    "indexFlat.add(vaswani_docs_embeddings)\n",
    "indexFlat.ntotal"
   ]
  },
  {
   "cell_type": "code",
   "execution_count": null,
   "id": "894972f1-f026-4b8d-b9a5-71e3aedf9ca4",
   "metadata": {},
   "outputs": [],
   "source": [
    "indexFlat.is_trained"
   ]
  },
  {
   "cell_type": "code",
   "execution_count": null,
   "id": "73a3fa99-6086-46c9-b71f-856fb31f6640",
   "metadata": {},
   "outputs": [],
   "source": [
    "# Ejemplo de recuperación\n",
    "k = 4\n",
    "query_vector = np.array([vaswani_query_embeddings[0]])"
   ]
  },
  {
   "cell_type": "code",
   "execution_count": null,
   "id": "6378b276-1082-479d-bace-5dc5b05b18b0",
   "metadata": {},
   "outputs": [],
   "source": [
    "%time\n",
    "DFlat, rsFlat = indexFlat.search(query_vector, k)  # Búsqueda"
   ]
  },
  {
   "cell_type": "code",
   "execution_count": null,
   "id": "345d097f-9ae2-4ab3-8078-71514b3a08dc",
   "metadata": {},
   "outputs": [],
   "source": [
    "print(rsFlat)"
   ]
  },
  {
   "cell_type": "code",
   "execution_count": null,
   "id": "e346d09f-68a8-4a6c-aaad-127cc79235e5",
   "metadata": {},
   "outputs": [],
   "source": [
    "DFlat"
   ]
  },
  {
   "cell_type": "code",
   "execution_count": null,
   "id": "aef5ee7e-d8a1-4618-95d8-a66323a30e12",
   "metadata": {},
   "outputs": [],
   "source": [
    "faiss.write_index(indexFlat, \"vaswani_faiss_flat.ndx\")"
   ]
  },
  {
   "cell_type": "markdown",
   "id": "2b74afeb-b128-4239-878a-f389949e6fec",
   "metadata": {},
   "source": [
    "**Prueba 2 - IVF Flat Index**  \n",
    "Recordar: En este tipo de índice se particiona el espacio de búsqueda (nlist) para realizar\n",
    "un ANN."
   ]
  },
  {
   "cell_type": "code",
   "execution_count": null,
   "id": "537dc825-62c3-448b-9b77-23456ab371b0",
   "metadata": {},
   "outputs": [],
   "source": [
    "nlist = 50  # Cantidad de celdas\n",
    "quantizer = faiss.IndexFlatL2(d)\n",
    "indexIVFFlat = faiss.IndexIVFFlat(quantizer, d, nlist)"
   ]
  },
  {
   "cell_type": "code",
   "execution_count": null,
   "id": "1c8fa3b5-429f-4a35-b7b5-925bf9dcc0c2",
   "metadata": {},
   "outputs": [],
   "source": [
    "indexIVFFlat.is_trained"
   ]
  },
  {
   "cell_type": "code",
   "execution_count": null,
   "id": "465a20b3-b7b5-41d3-9b93-f18862dc9c01",
   "metadata": {},
   "outputs": [],
   "source": [
    "# Preparo (train) las estructuras de datos del índice\n",
    "%time\n",
    "indexIVFFlat.train(vaswani_docs_embeddings)\n",
    "indexIVFFlat.ntotal"
   ]
  },
  {
   "cell_type": "code",
   "execution_count": null,
   "id": "49a573f0-d502-4813-b9cc-db86b2099326",
   "metadata": {},
   "outputs": [],
   "source": [
    "indexIVFFlat.is_trained"
   ]
  },
  {
   "cell_type": "code",
   "execution_count": null,
   "id": "94617936-b551-4c44-8459-32558ebdb2f9",
   "metadata": {},
   "outputs": [],
   "source": [
    "# Agrego los documentos al índice\n",
    "indexIVFFlat.add(vaswani_docs_embeddings)\n",
    "indexIVFFlat.ntotal"
   ]
  },
  {
   "cell_type": "code",
   "execution_count": null,
   "id": "42ba3bc3-acda-4d96-8485-b8caed3cbcba",
   "metadata": {},
   "outputs": [],
   "source": [
    "# Ejemplo de recuperación\n",
    "k = 5\n",
    "query_vector = np.array([vaswani_query_embeddings[0]])"
   ]
  },
  {
   "cell_type": "code",
   "execution_count": null,
   "id": "e6ab3f77-2685-44e4-a392-bd1b224118c0",
   "metadata": {},
   "outputs": [],
   "source": [
    "%time\n",
    "DIVFFlat, rsIVFFlat = indexIVFFlat.search(query_vector, k)  # Búsqueda"
   ]
  },
  {
   "cell_type": "code",
   "execution_count": null,
   "id": "77037de2-f692-465c-9903-ca1e6efaf198",
   "metadata": {},
   "outputs": [],
   "source": [
    "rsIVFFlat"
   ]
  },
  {
   "cell_type": "code",
   "execution_count": null,
   "id": "e892ff33-ed29-4042-9e8b-d87c6b38e424",
   "metadata": {},
   "outputs": [],
   "source": [
    "list_intersection(rsFlat, rsIVFFlat)"
   ]
  },
  {
   "cell_type": "code",
   "execution_count": null,
   "id": "697ae04b-ac6e-4b81-8a6a-d457aefc5f43",
   "metadata": {},
   "outputs": [],
   "source": [
    "indexIVFFlat.nprobe = 10 # Aumentamos el ámbito de búsqueda a 10 celdas\n",
    "DIVFFlat, rsIVFFlat = indexIVFFlat.search(query_vector, k)  # Búsqueda"
   ]
  },
  {
   "cell_type": "code",
   "execution_count": null,
   "id": "50dc0b2e-83ad-4200-9305-207fff590df1",
   "metadata": {},
   "outputs": [],
   "source": [
    "rsIVFFlat"
   ]
  },
  {
   "cell_type": "code",
   "execution_count": null,
   "id": "b3956a73-acb1-461c-9991-4994e66c1970",
   "metadata": {},
   "outputs": [],
   "source": [
    "faiss.write_index(indexIVFFlat, \"vaswani_faiss_ivfflat.ndx\")"
   ]
  },
  {
   "cell_type": "markdown",
   "id": "74612a0a-3118-42ea-b726-28abbd83392a",
   "metadata": {},
   "source": [
    "**Prueba 3 - IVF Flat Index con Product Quantization**  \n",
    "Recordar: En este tipo de índice se aplica Product Quantization para reducir (comprimir) los vectores. \n",
    "Luego se ejecuta ANN."
   ]
  },
  {
   "cell_type": "code",
   "execution_count": null,
   "id": "a44084e0-8695-4b13-ad04-ab1e864329e9",
   "metadata": {},
   "outputs": [],
   "source": [
    "m = 8  # number of centroid IDs in final compressed vectors\n",
    "bits = 8 # number of bits in each centroid\n",
    "\n",
    "quantizer = faiss.IndexFlatL2(d)  # we keep the same L2 distance flat index\n",
    "indexIVFPQ = faiss.IndexIVFPQ(quantizer, d, nlist, m, bits) "
   ]
  },
  {
   "cell_type": "code",
   "execution_count": null,
   "id": "d836a57c-5383-403a-916f-9e5f21a47cee",
   "metadata": {},
   "outputs": [],
   "source": [
    "indexIVFPQ.is_trained"
   ]
  },
  {
   "cell_type": "code",
   "execution_count": null,
   "id": "f24a48a7-38a3-4347-abf0-6592908a10d0",
   "metadata": {},
   "outputs": [],
   "source": [
    "# Preparo (train) las estructuras de datos del índice\n",
    "%time\n",
    "indexIVFPQ.train(vaswani_docs_embeddings)\n",
    "indexIVFPQ.ntotal"
   ]
  },
  {
   "cell_type": "code",
   "execution_count": null,
   "id": "2d8681ff-a8d7-4cf5-98e4-c8d686b166db",
   "metadata": {},
   "outputs": [],
   "source": [
    "# Agrego los documentos al índice\n",
    "indexIVFPQ.add(vaswani_docs_embeddings)\n",
    "indexIVFPQ.ntotal"
   ]
  },
  {
   "cell_type": "code",
   "execution_count": null,
   "id": "b8e61c2b-1149-438f-8e0a-2192a2d6963f",
   "metadata": {},
   "outputs": [],
   "source": [
    "# Ejemplo de recuperación\n",
    "k = 5\n",
    "query_vector = np.array([vaswani_query_embeddings[0]])"
   ]
  },
  {
   "cell_type": "code",
   "execution_count": null,
   "id": "4abe051b-afb8-4d6f-bae1-fe93935e6bcc",
   "metadata": {},
   "outputs": [],
   "source": [
    "%time\n",
    "DIVFPQ, rsIVFPQ = indexIVFPQ.search(query_vector, k)  # Búsqueda"
   ]
  },
  {
   "cell_type": "code",
   "execution_count": null,
   "id": "65b582ba-356b-412d-9896-48b9b2480eda",
   "metadata": {},
   "outputs": [],
   "source": [
    "rsIVFPQ"
   ]
  },
  {
   "cell_type": "code",
   "execution_count": null,
   "id": "a49108e6-5983-4773-8b55-7f3a49ad4d74",
   "metadata": {},
   "outputs": [],
   "source": [
    "indexIVFPQ.nprobe = 10\n",
    "%time\n",
    "DIVFPQ, rsIVFPQ = indexIVFPQ.search(query_vector, k)  # Búsqueda"
   ]
  },
  {
   "cell_type": "code",
   "execution_count": null,
   "id": "2264f4a7-0eb8-4a14-963a-871c1f243acc",
   "metadata": {},
   "outputs": [],
   "source": [
    "rsIVFPQ"
   ]
  },
  {
   "cell_type": "code",
   "execution_count": null,
   "id": "e326716b-da00-4fa5-bc11-045ccb500ac8",
   "metadata": {},
   "outputs": [],
   "source": [
    "faiss.write_index(indexIVFPQ, \"vaswani_faiss_ivfpq.ndx\")"
   ]
  },
  {
   "cell_type": "code",
   "execution_count": null,
   "id": "e7dfd37b-3704-4f89-be2b-bb6d0ff33ccf",
   "metadata": {},
   "outputs": [],
   "source": []
  },
  {
   "cell_type": "markdown",
   "id": "31862a61-539c-4e2a-8592-8625f812862d",
   "metadata": {},
   "source": [
    "### Tarea \n",
    "**Ejecutar todo el set de consultas y calcular el solapamiento promedio de las listas de \n",
    "resultados para nprobe = [1 .. 10]**"
   ]
  },
  {
   "cell_type": "code",
   "execution_count": null,
   "id": "928e7702-ae71-4066-9dfc-ee8af7fefdb5",
   "metadata": {},
   "outputs": [],
   "source": []
  }
 ],
 "metadata": {
  "kernelspec": {
   "display_name": "Python 3 (ipykernel)",
   "language": "python",
   "name": "python3"
  },
  "language_info": {
   "codemirror_mode": {
    "name": "ipython",
    "version": 3
   },
   "file_extension": ".py",
   "mimetype": "text/x-python",
   "name": "python",
   "nbconvert_exporter": "python",
   "pygments_lexer": "ipython3",
   "version": "3.11.4"
  }
 },
 "nbformat": 4,
 "nbformat_minor": 5
}
