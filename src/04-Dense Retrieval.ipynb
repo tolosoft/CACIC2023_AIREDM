{
 "cells": [
  {
   "cell_type": "code",
   "execution_count": 1,
   "id": "e35be00b-3e76-4a3e-aa38-f8ab0440a5d4",
   "metadata": {},
   "outputs": [],
   "source": [
    "import pandas as pd\n",
    "import numpy as np\n",
    "#\n",
    "import faiss\n",
    "import pyterrier as pt"
   ]
  },
  {
   "cell_type": "code",
   "execution_count": 2,
   "id": "c3d13454-ab7e-4080-81c2-8754d7a72338",
   "metadata": {},
   "outputs": [
    {
     "name": "stderr",
     "output_type": "stream",
     "text": [
      "PyTerrier 0.9.2 has loaded Terrier 5.7 (built by craigm on 2022-11-10 18:30) and terrier-helper 0.0.7\n",
      "\n",
      "No etc/terrier.properties, using terrier.default.properties for bootstrap configuration.\n"
     ]
    }
   ],
   "source": [
    "if not pt.started():\n",
    "    pt.init()"
   ]
  },
  {
   "cell_type": "code",
   "execution_count": 3,
   "id": "d489c49e-4d90-4a23-8614-7c5a4d423379",
   "metadata": {},
   "outputs": [],
   "source": [
    "# Intersección\n",
    "def list_intersection(l1, l2):\n",
    "    s1 = set(l1.tolist()[0])\n",
    "    s2 = set(l2.tolist()[0])\n",
    "    return len(s1.intersection(s2)) / len(s1)"
   ]
  },
  {
   "cell_type": "markdown",
   "id": "4fb974c7-099b-4d94-9087-223a5a8ec738",
   "metadata": {},
   "source": [
    "---\n",
    "### MAIN\n",
    "---"
   ]
  },
  {
   "cell_type": "code",
   "execution_count": 4,
   "id": "879e03f4-1dbe-4da8-af59-47e388f71936",
   "metadata": {},
   "outputs": [
    {
     "name": "stdout",
     "output_type": "stream",
     "text": [
      "Corpus Vaswani: ['/home/jovyan/.pyterrier/corpora/vaswani/corpus/doc-text.trec'] \n"
     ]
    }
   ],
   "source": [
    "dataset = pt.get_dataset(\"vaswani\")\n",
    "print(\"Corpus Vaswani: %s \" % dataset.get_corpus())"
   ]
  },
  {
   "cell_type": "code",
   "execution_count": 5,
   "id": "3f461fee-73ad-4696-9dbd-424c33517bbc",
   "metadata": {},
   "outputs": [
    {
     "data": {
      "text/plain": [
       "(11429, 2)"
      ]
     },
     "execution_count": 5,
     "metadata": {},
     "output_type": "execute_result"
    }
   ],
   "source": [
    "documents = pd.DataFrame(dataset.get_corpus_iter())\n",
    "documents.shape"
   ]
  },
  {
   "cell_type": "code",
   "execution_count": 6,
   "id": "f5c707a9-1d4a-48b3-b5b7-e49811a12aa8",
   "metadata": {},
   "outputs": [
    {
     "data": {
      "text/html": [
       "<div>\n",
       "<style scoped>\n",
       "    .dataframe tbody tr th:only-of-type {\n",
       "        vertical-align: middle;\n",
       "    }\n",
       "\n",
       "    .dataframe tbody tr th {\n",
       "        vertical-align: top;\n",
       "    }\n",
       "\n",
       "    .dataframe thead th {\n",
       "        text-align: right;\n",
       "    }\n",
       "</style>\n",
       "<table border=\"1\" class=\"dataframe\">\n",
       "  <thead>\n",
       "    <tr style=\"text-align: right;\">\n",
       "      <th></th>\n",
       "      <th>docno</th>\n",
       "      <th>text</th>\n",
       "    </tr>\n",
       "  </thead>\n",
       "  <tbody>\n",
       "    <tr>\n",
       "      <th>0</th>\n",
       "      <td>1</td>\n",
       "      <td>compact memories have flexible capacities  a d...</td>\n",
       "    </tr>\n",
       "    <tr>\n",
       "      <th>1</th>\n",
       "      <td>2</td>\n",
       "      <td>an electronic analogue computer for solving sy...</td>\n",
       "    </tr>\n",
       "    <tr>\n",
       "      <th>2</th>\n",
       "      <td>3</td>\n",
       "      <td>electronic coordinate transformer  circuit det...</td>\n",
       "    </tr>\n",
       "    <tr>\n",
       "      <th>3</th>\n",
       "      <td>4</td>\n",
       "      <td>the british computer society  report of a conf...</td>\n",
       "    </tr>\n",
       "    <tr>\n",
       "      <th>4</th>\n",
       "      <td>5</td>\n",
       "      <td>millimicrosecond digital computer logic  a sys...</td>\n",
       "    </tr>\n",
       "  </tbody>\n",
       "</table>\n",
       "</div>"
      ],
      "text/plain": [
       "  docno                                               text\n",
       "0     1  compact memories have flexible capacities  a d...\n",
       "1     2  an electronic analogue computer for solving sy...\n",
       "2     3  electronic coordinate transformer  circuit det...\n",
       "3     4  the british computer society  report of a conf...\n",
       "4     5  millimicrosecond digital computer logic  a sys..."
      ]
     },
     "execution_count": 6,
     "metadata": {},
     "output_type": "execute_result"
    }
   ],
   "source": [
    "documents.head()"
   ]
  },
  {
   "cell_type": "code",
   "execution_count": 49,
   "id": "0427bbe1-349d-4e22-936f-3327a285dc7c",
   "metadata": {},
   "outputs": [],
   "source": [
    "#!pip install transformers\n",
    "#!pip install sentence-transformers\n",
    "#from sentence_transformers import SentenceTransformer, util\n",
    "#model = SentenceTransformer('sentence-transformers/distiluse-base-multilingual-cased-v2')\n",
    "\n",
    "#doc_text = list(documents['text'].head(10))\n",
    "#demo_embeddings = model.encode(doc_text, convert_to_tensor=True)\n",
    "#print (demo_embeddings.shape)\n",
    "#\n",
    "#demo_embeddings"
   ]
  },
  {
   "cell_type": "code",
   "execution_count": 11,
   "id": "2f971e5b-e20e-4316-9c1f-1dff489655b5",
   "metadata": {},
   "outputs": [
    {
     "data": {
      "text/plain": [
       "(11429, 512)"
      ]
     },
     "execution_count": 11,
     "metadata": {},
     "output_type": "execute_result"
    }
   ],
   "source": [
    "# Cargo los embeddings de todos los docs previamente calculados.\n",
    "vaswani_docs_embeddings = np.load(\"../data/vaswani_docs_embeddings-512.npy\")\n",
    "vaswani_docs_embeddings.shape"
   ]
  },
  {
   "cell_type": "code",
   "execution_count": 48,
   "id": "5b220463-1e61-493c-89df-887a6774b3b7",
   "metadata": {},
   "outputs": [
    {
     "data": {
      "text/plain": [
       "array([ 9.95724797e-02,  7.84335379e-03, -4.75690439e-02, -3.09009496e-02,\n",
       "        9.55666378e-02, -3.18422914e-02,  6.99837357e-02, -1.73974298e-02,\n",
       "        1.46257672e-02,  1.28097497e-02,  4.78746806e-04, -2.91474462e-02,\n",
       "       -1.60487369e-02, -3.17740301e-03,  6.00390509e-02,  5.03449924e-02,\n",
       "        7.54538029e-02, -2.97647063e-02, -6.68815337e-03, -2.77290437e-02,\n",
       "        1.18169188e-02, -4.04140614e-02,  2.56132428e-03, -2.95873974e-02,\n",
       "        6.13711588e-02,  3.66782546e-02, -3.41790654e-02,  1.26804560e-02,\n",
       "       -1.11371893e-02,  2.62570418e-02, -3.00066695e-02,  2.83214115e-02,\n",
       "        1.01238757e-01,  1.24692842e-02,  1.41052268e-02,  3.02290544e-02,\n",
       "        3.11574270e-03, -5.15380800e-02,  1.17427520e-02, -1.47100817e-02,\n",
       "        7.09908009e-02, -2.94207297e-02,  7.34805455e-03, -6.60830215e-02,\n",
       "        9.61912982e-03,  3.35156433e-02,  3.22302282e-02,  1.16466114e-03,\n",
       "        3.97732966e-02,  7.16824876e-03,  2.03587748e-02,  5.89668490e-02,\n",
       "        9.74677950e-02,  4.35181940e-03,  4.89945449e-02,  2.45614816e-02,\n",
       "       -1.29772094e-03,  1.15717135e-01,  1.43715749e-02,  2.35852450e-02,\n",
       "       -4.04167250e-02, -8.96104723e-02, -5.19657210e-02, -1.07825315e-02,\n",
       "        7.49842823e-02, -1.18698170e-02, -8.00225586e-02, -7.14520132e-03,\n",
       "       -1.62786758e-03, -1.95307955e-02, -6.44450486e-02, -3.61690950e-03,\n",
       "       -3.29507068e-02,  2.12051179e-02,  3.46279284e-03, -7.40646720e-02,\n",
       "       -2.61656772e-02, -2.04523839e-02, -4.57660034e-02, -9.05453786e-03,\n",
       "       -1.85186472e-02,  1.96141284e-02,  5.66558130e-02,  4.70971828e-03,\n",
       "       -2.91582849e-02,  4.60053049e-02,  5.93370125e-02,  1.69557729e-03,\n",
       "       -2.52998830e-03,  6.56728679e-03,  2.48409109e-03,  2.80986354e-03,\n",
       "       -1.70821161e-03,  3.79251502e-02, -1.59341805e-02, -9.89316311e-03,\n",
       "        4.76520061e-02,  5.59791252e-02, -2.07517929e-02,  2.15520784e-02,\n",
       "       -8.87422450e-03, -2.27561127e-02, -8.13402310e-02,  1.28840376e-02,\n",
       "        4.15249541e-02, -1.20224981e-02, -8.63889884e-03,  2.08444651e-02,\n",
       "       -5.68263717e-02,  2.86621656e-02,  8.23511034e-02,  9.32091847e-03,\n",
       "        3.76072749e-02, -5.23915701e-02, -1.16731068e-02, -5.61967604e-02,\n",
       "        3.77516523e-02,  8.70549455e-02,  2.18429323e-02, -1.54505149e-02,\n",
       "       -4.16504368e-02, -2.95721032e-02, -7.85090495e-03, -4.73974496e-02,\n",
       "        5.28271794e-02, -7.99057335e-02,  3.65720913e-02,  2.06407681e-02,\n",
       "       -2.10598465e-02,  1.27467543e-01,  7.73322582e-02, -1.78823136e-02,\n",
       "       -5.75591624e-02,  9.89211816e-03, -4.19092886e-02, -1.35499211e-02,\n",
       "       -1.03340954e-01, -1.64162610e-02, -8.33492074e-03,  6.22124337e-02,\n",
       "       -7.41815642e-02, -2.23486871e-02,  5.13512120e-02, -5.86344562e-02,\n",
       "        7.80682415e-02,  7.30381384e-02, -5.19324373e-03,  8.01254995e-03,\n",
       "        3.54580134e-02,  3.62522192e-02, -5.83334547e-03,  7.83195272e-02,\n",
       "       -4.96111298e-03,  3.36151421e-02,  1.69639438e-02, -1.61375152e-03,\n",
       "        1.01950310e-01, -2.39045266e-03,  1.93539411e-02,  1.60341728e-02,\n",
       "       -7.45656481e-03,  2.77260598e-02, -4.29951139e-02, -4.83940840e-02,\n",
       "       -7.26376772e-02, -6.00002706e-02, -2.66306307e-02, -3.45763676e-02,\n",
       "        5.24191856e-02, -6.44895360e-02,  3.80430445e-02, -2.88199317e-02,\n",
       "        1.68350562e-02,  6.23780265e-02, -1.32780582e-01, -1.70938671e-02,\n",
       "       -2.91796867e-02,  1.15385409e-02, -9.73305665e-03,  1.58581529e-02,\n",
       "       -1.93810891e-02, -5.86551614e-02, -2.59013078e-03,  1.27033666e-02,\n",
       "       -2.88018063e-02,  3.98254320e-02, -1.39805242e-01, -2.63924617e-02,\n",
       "       -1.50784794e-02,  3.92342433e-02,  2.87786648e-02,  4.43793804e-04,\n",
       "       -3.14694308e-02,  6.08166307e-02,  6.50582016e-02,  3.03280400e-03,\n",
       "       -4.08975743e-02, -2.31721252e-02,  6.68493435e-02, -2.88634207e-02,\n",
       "       -3.27028707e-02, -8.31961408e-02,  2.07942985e-02, -3.30839306e-02,\n",
       "       -2.73871720e-02,  8.70681927e-02, -4.63962071e-02,  4.66627926e-02,\n",
       "       -5.82171120e-02, -1.78278647e-02,  6.68235868e-02,  2.01944672e-02,\n",
       "       -3.09093818e-02, -2.07406171e-02, -3.80013809e-02, -2.86452100e-02,\n",
       "        6.89242259e-02, -2.34963428e-02, -4.54625562e-02,  3.80938761e-02,\n",
       "        8.11665058e-02,  2.95377965e-03,  5.79304583e-02,  8.40513036e-02,\n",
       "        3.00840810e-02,  6.48517758e-02, -1.32452399e-01,  6.16675767e-04,\n",
       "        2.38025151e-02, -7.48746991e-02, -4.71578464e-02, -2.50352733e-02,\n",
       "        2.37059966e-02,  2.25502159e-02,  4.23907787e-02,  1.57789385e-03,\n",
       "       -1.23143066e-02,  7.26139545e-02,  3.26409377e-02, -3.18157561e-02,\n",
       "        2.49579847e-02, -1.36594335e-02, -1.59543622e-02, -3.65976468e-02,\n",
       "        3.82711217e-02,  2.47496534e-02, -2.61028763e-04, -4.09102440e-03,\n",
       "        1.33601613e-02, -6.43244162e-02,  1.77594703e-02,  3.63402977e-03,\n",
       "        1.72547679e-02,  1.22704171e-02,  9.17611495e-02, -1.37295965e-02,\n",
       "        2.99430024e-02, -1.62514653e-02,  3.87322344e-02,  7.30651543e-02,\n",
       "       -3.03310510e-02, -2.70320456e-02,  1.37422152e-03,  3.80278341e-02,\n",
       "       -6.31622821e-02,  3.50720957e-02, -6.87554432e-03,  2.97890399e-02,\n",
       "        2.30822247e-02, -8.61886665e-02,  7.34144868e-03, -1.85674280e-02,\n",
       "        3.44497827e-03, -1.82574671e-02, -1.88779719e-02, -5.09879887e-02,\n",
       "        8.72958601e-02, -3.24233584e-02,  1.56387277e-02, -4.69823647e-03,\n",
       "        2.86256149e-02, -4.10326617e-03, -1.95147339e-02,  5.35318861e-03,\n",
       "        3.30778863e-03,  1.36568658e-02,  7.64562003e-03, -3.55434641e-02,\n",
       "       -1.77770909e-02, -2.89656632e-02, -1.19029488e-02, -8.85778889e-02,\n",
       "       -5.22607043e-02,  2.74770875e-02,  3.73453461e-02, -1.72838774e-02,\n",
       "        3.47196162e-02, -4.11253944e-02,  5.41387498e-02,  1.41239874e-02,\n",
       "        1.02756694e-02,  4.86686155e-02, -7.34290183e-02, -2.69213971e-02,\n",
       "        3.25169303e-02, -2.26449198e-03,  2.10257270e-03, -5.53797651e-03,\n",
       "       -5.64940944e-02, -3.71398255e-02, -2.90262681e-02, -5.86399809e-02,\n",
       "        7.67370462e-02, -2.81616449e-02,  3.21692135e-03, -1.12624150e-02,\n",
       "       -9.92528535e-03, -3.19662988e-02,  7.02215806e-02,  9.86249000e-02,\n",
       "       -1.18242148e-02, -5.94111495e-02, -6.04653673e-04,  4.83285449e-02,\n",
       "        1.08400881e-02,  2.11059768e-02,  7.32192844e-02, -7.73985386e-02,\n",
       "        2.43372247e-02,  6.43474013e-02,  5.81929134e-03,  2.79653240e-02,\n",
       "        7.92142451e-02,  3.73384240e-03,  3.21950614e-02, -6.90971538e-02,\n",
       "        2.53022779e-02, -5.63677121e-03,  1.29079837e-02, -2.69245971e-02,\n",
       "       -4.36317734e-02,  7.99125154e-03, -1.28039159e-02, -2.04249304e-02,\n",
       "       -2.58166920e-02, -1.74108949e-02, -5.24793044e-02,  3.04946676e-04,\n",
       "       -3.62791605e-02,  1.13052495e-01,  7.25075183e-03, -1.08406320e-02,\n",
       "       -5.55464474e-04,  3.85072036e-03, -3.33771333e-02,  2.65353955e-02,\n",
       "        6.53209761e-02,  4.23773341e-02,  1.10727828e-02,  2.60223784e-02,\n",
       "       -5.60106821e-02, -2.19575446e-02,  5.43137863e-02, -3.28466184e-02,\n",
       "       -6.69139624e-02,  2.47570546e-03, -2.43649594e-02,  2.35985946e-02,\n",
       "       -4.81679216e-02, -1.29569713e-02,  4.81253378e-02, -1.14371203e-01,\n",
       "        5.04836924e-02,  1.05271414e-01, -1.71210747e-02, -7.03097209e-02,\n",
       "        5.17378300e-02, -1.31738916e-01, -3.66650186e-02,  1.53724775e-02,\n",
       "        5.94429951e-03, -3.28581710e-03, -2.44036485e-02,  1.55952517e-02,\n",
       "        6.07617386e-02,  4.66066384e-04, -1.73001420e-02,  5.80730028e-02,\n",
       "       -7.09960610e-03, -6.65733367e-02,  4.15557399e-02, -2.94696242e-02,\n",
       "       -1.74162723e-02,  5.00540137e-02, -4.35442179e-02, -7.50865461e-03,\n",
       "       -8.41898471e-02,  4.27864864e-02, -1.45410663e-02,  5.66911325e-02,\n",
       "        2.03347243e-02, -1.78703237e-02, -3.60003412e-02, -6.30644262e-02,\n",
       "       -6.24932274e-02,  2.30015479e-02,  1.93715207e-02, -6.58649132e-02,\n",
       "        6.98991790e-02,  3.78544256e-02, -6.78116307e-02, -3.64342742e-02,\n",
       "       -6.40617497e-03, -3.48286591e-02,  1.55550521e-02,  1.05792899e-02,\n",
       "        5.61030246e-02,  8.81040748e-03, -2.24904567e-02, -9.39487573e-03,\n",
       "        6.69296011e-02,  1.17128715e-04, -1.39062079e-02, -2.45188251e-02,\n",
       "       -6.79641515e-02,  8.22476402e-04,  3.60586420e-02,  9.43124853e-03,\n",
       "       -3.73389423e-02, -6.26985580e-02,  4.03759368e-02,  6.27968311e-02,\n",
       "       -8.79797852e-04,  5.40315956e-02,  6.85736444e-03, -6.66223392e-02,\n",
       "        4.18093093e-02,  8.34812690e-03,  1.04266331e-02,  7.96477776e-03,\n",
       "       -2.90560033e-02,  2.62677483e-02, -3.01300585e-02,  6.44326955e-02,\n",
       "        6.96125850e-02, -1.65727716e-02,  4.56435885e-03,  1.91412196e-02,\n",
       "        2.16054311e-03, -3.66384955e-03, -1.81354079e-02,  2.90040229e-03,\n",
       "        5.76847559e-03,  7.24607334e-02, -6.34405538e-02,  4.47204709e-03,\n",
       "       -4.13281890e-03,  2.15720814e-02,  5.64804412e-02, -1.97947044e-02,\n",
       "       -9.65566486e-02,  1.40713295e-02, -4.64642011e-02,  4.84259874e-02,\n",
       "       -5.89637049e-02,  5.14237992e-02,  2.87793614e-02, -3.32304202e-02,\n",
       "       -1.00186251e-01,  2.43335404e-02,  4.05610725e-03,  1.97522230e-02,\n",
       "       -4.14901152e-02,  5.81514090e-02,  2.76329219e-02, -1.74016822e-02,\n",
       "       -4.72577922e-02, -2.33910773e-02, -2.40016039e-02, -7.10048601e-02,\n",
       "       -4.67872471e-02,  7.87988305e-02,  2.78315265e-02, -6.36510476e-02,\n",
       "        2.54575349e-02,  2.45593265e-02, -1.09623689e-02,  2.91139949e-02,\n",
       "       -3.31276543e-02,  9.74574033e-03, -4.22429703e-02, -1.00353910e-02,\n",
       "       -7.69632757e-02,  7.04250261e-02,  2.25375351e-02, -6.74408395e-03,\n",
       "        6.81322720e-03, -1.92489289e-02, -3.72478329e-02, -5.45442961e-02,\n",
       "       -6.27605915e-02, -7.64476657e-02, -1.64433569e-02,  7.35207796e-02,\n",
       "        2.48720367e-02, -1.48273986e-02,  5.19240163e-02, -1.81737840e-02,\n",
       "       -8.28529671e-02,  3.70738171e-02,  2.02814881e-02, -3.25495154e-02],\n",
       "      dtype=float32)"
      ]
     },
     "execution_count": 48,
     "metadata": {},
     "output_type": "execute_result"
    }
   ],
   "source": [
    "vaswani_docs_embeddings[1]"
   ]
  },
  {
   "cell_type": "code",
   "execution_count": 12,
   "id": "fdac2c14-45c3-444b-8ad0-6757123855e2",
   "metadata": {},
   "outputs": [
    {
     "data": {
      "text/html": [
       "<div>\n",
       "<style scoped>\n",
       "    .dataframe tbody tr th:only-of-type {\n",
       "        vertical-align: middle;\n",
       "    }\n",
       "\n",
       "    .dataframe tbody tr th {\n",
       "        vertical-align: top;\n",
       "    }\n",
       "\n",
       "    .dataframe thead th {\n",
       "        text-align: right;\n",
       "    }\n",
       "</style>\n",
       "<table border=\"1\" class=\"dataframe\">\n",
       "  <thead>\n",
       "    <tr style=\"text-align: right;\">\n",
       "      <th></th>\n",
       "      <th>qid</th>\n",
       "      <th>query</th>\n",
       "    </tr>\n",
       "  </thead>\n",
       "  <tbody>\n",
       "    <tr>\n",
       "      <th>0</th>\n",
       "      <td>1</td>\n",
       "      <td>measurement of dielectric constant of liquids ...</td>\n",
       "    </tr>\n",
       "    <tr>\n",
       "      <th>1</th>\n",
       "      <td>2</td>\n",
       "      <td>mathematical analysis and design details of wa...</td>\n",
       "    </tr>\n",
       "    <tr>\n",
       "      <th>2</th>\n",
       "      <td>3</td>\n",
       "      <td>use of digital computers in the design of band...</td>\n",
       "    </tr>\n",
       "    <tr>\n",
       "      <th>3</th>\n",
       "      <td>4</td>\n",
       "      <td>systems of data coding for information transfer</td>\n",
       "    </tr>\n",
       "    <tr>\n",
       "      <th>4</th>\n",
       "      <td>5</td>\n",
       "      <td>use of programs in engineering testing of comp...</td>\n",
       "    </tr>\n",
       "  </tbody>\n",
       "</table>\n",
       "</div>"
      ],
      "text/plain": [
       "  qid                                              query\n",
       "0   1  measurement of dielectric constant of liquids ...\n",
       "1   2  mathematical analysis and design details of wa...\n",
       "2   3  use of digital computers in the design of band...\n",
       "3   4    systems of data coding for information transfer\n",
       "4   5  use of programs in engineering testing of comp..."
      ]
     },
     "execution_count": 12,
     "metadata": {},
     "output_type": "execute_result"
    }
   ],
   "source": [
    "# Obtengo los 'topics' asociados al corpus\n",
    "topics = dataset.get_topics()\n",
    "topics.head()"
   ]
  },
  {
   "cell_type": "code",
   "execution_count": 14,
   "id": "602dd17b-5bc6-43a3-b95e-dc94d40918b7",
   "metadata": {},
   "outputs": [
    {
     "data": {
      "text/plain": [
       "(93, 512)"
      ]
     },
     "execution_count": 14,
     "metadata": {},
     "output_type": "execute_result"
    }
   ],
   "source": [
    "# Cargo los embeddings de todos los queries previamente calculados.\n",
    "vaswani_query_embeddings = np.load(\"../data/vaswani_query_embeddings-512.npy\")\n",
    "vaswani_query_embeddings.shape"
   ]
  },
  {
   "cell_type": "markdown",
   "id": "a81311d9-7243-4952-8141-345e81929735",
   "metadata": {},
   "source": [
    "### Indexación con FAISS (diferentes índices)\n",
    "**Más sobre los tipos de índices en FAISS:** https://github.com/facebookresearch/faiss/wiki/Faiss-indexes"
   ]
  },
  {
   "cell_type": "markdown",
   "id": "e0a25c0e-d6d6-41fd-89e8-ecc0e9c86baf",
   "metadata": {},
   "source": [
    "**Prueba 1 - Flat Index**  \n",
    "Recordar: En este tipo de índice se mide la distancia L2 (euclídea) entre el vector de query \n",
    "y todos los vectores de documentos almacenados. Es simple y preciso (pero no demasiado rápido)."
   ]
  },
  {
   "cell_type": "code",
   "execution_count": 15,
   "id": "e0b068b8-4ea1-4adf-9bca-e2035f4217f4",
   "metadata": {},
   "outputs": [
    {
     "data": {
      "text/plain": [
       "0"
      ]
     },
     "execution_count": 15,
     "metadata": {},
     "output_type": "execute_result"
    }
   ],
   "source": [
    "# Inicialización\n",
    "d = 512\n",
    "indexFlat = faiss.IndexFlatL2(d)\n",
    "\n",
    "# Chequeo cantidad de docs en el índice\n",
    "indexFlat.ntotal"
   ]
  },
  {
   "cell_type": "code",
   "execution_count": 16,
   "id": "4616c228-6a95-4db5-8b60-16f0cbd2aed4",
   "metadata": {},
   "outputs": [
    {
     "name": "stdout",
     "output_type": "stream",
     "text": [
      "CPU times: user 2 µs, sys: 0 ns, total: 2 µs\n",
      "Wall time: 5.96 µs\n"
     ]
    },
    {
     "data": {
      "text/plain": [
       "11429"
      ]
     },
     "execution_count": 16,
     "metadata": {},
     "output_type": "execute_result"
    }
   ],
   "source": [
    "# Agrego los documentos al índice\n",
    "%time\n",
    "indexFlat.add(vaswani_docs_embeddings)\n",
    "indexFlat.ntotal"
   ]
  },
  {
   "cell_type": "code",
   "execution_count": 17,
   "id": "894972f1-f026-4b8d-b9a5-71e3aedf9ca4",
   "metadata": {},
   "outputs": [
    {
     "data": {
      "text/plain": [
       "True"
      ]
     },
     "execution_count": 17,
     "metadata": {},
     "output_type": "execute_result"
    }
   ],
   "source": [
    "indexFlat.is_trained"
   ]
  },
  {
   "cell_type": "code",
   "execution_count": 21,
   "id": "73a3fa99-6086-46c9-b71f-856fb31f6640",
   "metadata": {},
   "outputs": [],
   "source": [
    "# Ejemplo de recuperación\n",
    "k = 4\n",
    "query_vector = np.array([vaswani_query_embeddings[0]])"
   ]
  },
  {
   "cell_type": "code",
   "execution_count": 22,
   "id": "6378b276-1082-479d-bace-5dc5b05b18b0",
   "metadata": {},
   "outputs": [
    {
     "name": "stdout",
     "output_type": "stream",
     "text": [
      "CPU times: user 2 µs, sys: 0 ns, total: 2 µs\n",
      "Wall time: 5.96 µs\n"
     ]
    }
   ],
   "source": [
    "%time\n",
    "DFlat, rsFlat = indexFlat.search(query_vector, k)  # Búsqueda"
   ]
  },
  {
   "cell_type": "code",
   "execution_count": 23,
   "id": "345d097f-9ae2-4ab3-8078-71514b3a08dc",
   "metadata": {},
   "outputs": [
    {
     "name": "stdout",
     "output_type": "stream",
     "text": [
      "[[1501 7125 1087 1896]]\n"
     ]
    }
   ],
   "source": [
    "print(rsFlat)"
   ]
  },
  {
   "cell_type": "code",
   "execution_count": 24,
   "id": "e346d09f-68a8-4a6c-aaad-127cc79235e5",
   "metadata": {},
   "outputs": [
    {
     "data": {
      "text/plain": [
       "array([[0.49462646, 0.76442146, 0.8314605 , 0.8432368 ]], dtype=float32)"
      ]
     },
     "execution_count": 24,
     "metadata": {},
     "output_type": "execute_result"
    }
   ],
   "source": [
    "DFlat"
   ]
  },
  {
   "cell_type": "code",
   "execution_count": 25,
   "id": "aef5ee7e-d8a1-4618-95d8-a66323a30e12",
   "metadata": {},
   "outputs": [],
   "source": [
    "faiss.write_index(indexFlat, \"vaswani_faiss_flat.ndx\")"
   ]
  },
  {
   "cell_type": "markdown",
   "id": "2b74afeb-b128-4239-878a-f389949e6fec",
   "metadata": {},
   "source": [
    "**Prueba 2 - IVF Flat Index**  \n",
    "Recordar: En este tipo de índice se particiona el espacio de búsqueda (nlist) para realizar\n",
    "un ANN."
   ]
  },
  {
   "cell_type": "code",
   "execution_count": 26,
   "id": "537dc825-62c3-448b-9b77-23456ab371b0",
   "metadata": {},
   "outputs": [],
   "source": [
    "nlist = 50  # Cantidad de celdas\n",
    "quantizer = faiss.IndexFlatL2(d)\n",
    "indexIVFFlat = faiss.IndexIVFFlat(quantizer, d, nlist)"
   ]
  },
  {
   "cell_type": "code",
   "execution_count": 27,
   "id": "1c8fa3b5-429f-4a35-b7b5-925bf9dcc0c2",
   "metadata": {},
   "outputs": [
    {
     "data": {
      "text/plain": [
       "False"
      ]
     },
     "execution_count": 27,
     "metadata": {},
     "output_type": "execute_result"
    }
   ],
   "source": [
    "indexIVFFlat.is_trained"
   ]
  },
  {
   "cell_type": "code",
   "execution_count": 28,
   "id": "465a20b3-b7b5-41d3-9b93-f18862dc9c01",
   "metadata": {},
   "outputs": [
    {
     "name": "stdout",
     "output_type": "stream",
     "text": [
      "CPU times: user 2 µs, sys: 1 µs, total: 3 µs\n",
      "Wall time: 4.77 µs\n"
     ]
    },
    {
     "data": {
      "text/plain": [
       "0"
      ]
     },
     "execution_count": 28,
     "metadata": {},
     "output_type": "execute_result"
    }
   ],
   "source": [
    "# Preparo (train) las estructuras de datos del índice\n",
    "%time\n",
    "indexIVFFlat.train(vaswani_docs_embeddings)\n",
    "indexIVFFlat.ntotal"
   ]
  },
  {
   "cell_type": "code",
   "execution_count": 29,
   "id": "49a573f0-d502-4813-b9cc-db86b2099326",
   "metadata": {},
   "outputs": [
    {
     "data": {
      "text/plain": [
       "True"
      ]
     },
     "execution_count": 29,
     "metadata": {},
     "output_type": "execute_result"
    }
   ],
   "source": [
    "indexIVFFlat.is_trained"
   ]
  },
  {
   "cell_type": "code",
   "execution_count": 30,
   "id": "94617936-b551-4c44-8459-32558ebdb2f9",
   "metadata": {},
   "outputs": [
    {
     "data": {
      "text/plain": [
       "11429"
      ]
     },
     "execution_count": 30,
     "metadata": {},
     "output_type": "execute_result"
    }
   ],
   "source": [
    "# Agrego los documentos al índice\n",
    "indexIVFFlat.add(vaswani_docs_embeddings)\n",
    "indexIVFFlat.ntotal"
   ]
  },
  {
   "cell_type": "code",
   "execution_count": 31,
   "id": "42ba3bc3-acda-4d96-8485-b8caed3cbcba",
   "metadata": {},
   "outputs": [],
   "source": [
    "# Ejemplo de recuperación\n",
    "k = 5\n",
    "query_vector = np.array([vaswani_query_embeddings[0]])"
   ]
  },
  {
   "cell_type": "code",
   "execution_count": 32,
   "id": "e6ab3f77-2685-44e4-a392-bd1b224118c0",
   "metadata": {},
   "outputs": [
    {
     "name": "stdout",
     "output_type": "stream",
     "text": [
      "CPU times: user 3 µs, sys: 0 ns, total: 3 µs\n",
      "Wall time: 5.48 µs\n"
     ]
    }
   ],
   "source": [
    "%time\n",
    "DIVFFlat, rsIVFFlat = indexIVFFlat.search(query_vector, k)  # Búsqueda"
   ]
  },
  {
   "cell_type": "code",
   "execution_count": 33,
   "id": "77037de2-f692-465c-9903-ca1e6efaf198",
   "metadata": {},
   "outputs": [
    {
     "data": {
      "text/plain": [
       "array([[8275, 4255, 8581, 8481,   57]])"
      ]
     },
     "execution_count": 33,
     "metadata": {},
     "output_type": "execute_result"
    }
   ],
   "source": [
    "rsIVFFlat"
   ]
  },
  {
   "cell_type": "code",
   "execution_count": 34,
   "id": "e892ff33-ed29-4042-9e8b-d87c6b38e424",
   "metadata": {},
   "outputs": [
    {
     "data": {
      "text/plain": [
       "0.0"
      ]
     },
     "execution_count": 34,
     "metadata": {},
     "output_type": "execute_result"
    }
   ],
   "source": [
    "list_intersection(rsFlat, rsIVFFlat)"
   ]
  },
  {
   "cell_type": "code",
   "execution_count": 35,
   "id": "697ae04b-ac6e-4b81-8a6a-d457aefc5f43",
   "metadata": {},
   "outputs": [],
   "source": [
    "indexIVFFlat.nprobe = 10 # Aumentamos el ámbito de búsqueda a 10 celdas\n",
    "DIVFFlat, rsIVFFlat = indexIVFFlat.search(query_vector, k)  # Búsqueda"
   ]
  },
  {
   "cell_type": "code",
   "execution_count": 36,
   "id": "50dc0b2e-83ad-4200-9305-207fff590df1",
   "metadata": {},
   "outputs": [
    {
     "data": {
      "text/plain": [
       "array([[1501, 7125, 1896, 1987, 4816]])"
      ]
     },
     "execution_count": 36,
     "metadata": {},
     "output_type": "execute_result"
    }
   ],
   "source": [
    "rsIVFFlat"
   ]
  },
  {
   "cell_type": "code",
   "execution_count": 37,
   "id": "b3956a73-acb1-461c-9991-4994e66c1970",
   "metadata": {},
   "outputs": [],
   "source": [
    "faiss.write_index(indexIVFFlat, \"vaswani_faiss_ivfflat.ndx\")"
   ]
  },
  {
   "cell_type": "markdown",
   "id": "74612a0a-3118-42ea-b726-28abbd83392a",
   "metadata": {},
   "source": [
    "**Prueba 3 - IVF Flat Index con Product Quantization**  \n",
    "Recordar: En este tipo de índice se aplica Product Quantization para reducir (comprimir) los vectores. \n",
    "Luego se ejecuta ANN."
   ]
  },
  {
   "cell_type": "code",
   "execution_count": 38,
   "id": "a44084e0-8695-4b13-ad04-ab1e864329e9",
   "metadata": {},
   "outputs": [],
   "source": [
    "m = 8  # number of centroid IDs in final compressed vectors\n",
    "bits = 8 # number of bits in each centroid\n",
    "\n",
    "quantizer = faiss.IndexFlatL2(d)  # we keep the same L2 distance flat index\n",
    "indexIVFPQ = faiss.IndexIVFPQ(quantizer, d, nlist, m, bits) "
   ]
  },
  {
   "cell_type": "code",
   "execution_count": 39,
   "id": "d836a57c-5383-403a-916f-9e5f21a47cee",
   "metadata": {},
   "outputs": [
    {
     "data": {
      "text/plain": [
       "False"
      ]
     },
     "execution_count": 39,
     "metadata": {},
     "output_type": "execute_result"
    }
   ],
   "source": [
    "indexIVFPQ.is_trained"
   ]
  },
  {
   "cell_type": "code",
   "execution_count": 40,
   "id": "f24a48a7-38a3-4347-abf0-6592908a10d0",
   "metadata": {},
   "outputs": [
    {
     "name": "stdout",
     "output_type": "stream",
     "text": [
      "CPU times: user 3 µs, sys: 1 µs, total: 4 µs\n",
      "Wall time: 5.25 µs\n"
     ]
    },
    {
     "data": {
      "text/plain": [
       "0"
      ]
     },
     "execution_count": 40,
     "metadata": {},
     "output_type": "execute_result"
    }
   ],
   "source": [
    "# Preparo (train) las estructuras de datos del índice\n",
    "%time\n",
    "indexIVFPQ.train(vaswani_docs_embeddings)\n",
    "indexIVFPQ.ntotal"
   ]
  },
  {
   "cell_type": "code",
   "execution_count": 41,
   "id": "2d8681ff-a8d7-4cf5-98e4-c8d686b166db",
   "metadata": {},
   "outputs": [
    {
     "data": {
      "text/plain": [
       "11429"
      ]
     },
     "execution_count": 41,
     "metadata": {},
     "output_type": "execute_result"
    }
   ],
   "source": [
    "# Agrego los documentos al índice\n",
    "indexIVFPQ.add(vaswani_docs_embeddings)\n",
    "indexIVFPQ.ntotal"
   ]
  },
  {
   "cell_type": "code",
   "execution_count": 42,
   "id": "b8e61c2b-1149-438f-8e0a-2192a2d6963f",
   "metadata": {},
   "outputs": [],
   "source": [
    "# Ejemplo de recuperación\n",
    "k = 5\n",
    "query_vector = np.array([vaswani_query_embeddings[0]])"
   ]
  },
  {
   "cell_type": "code",
   "execution_count": 43,
   "id": "4abe051b-afb8-4d6f-bae1-fe93935e6bcc",
   "metadata": {},
   "outputs": [
    {
     "name": "stdout",
     "output_type": "stream",
     "text": [
      "CPU times: user 2 µs, sys: 0 ns, total: 2 µs\n",
      "Wall time: 5.25 µs\n"
     ]
    }
   ],
   "source": [
    "%time\n",
    "DIVFPQ, rsIVFPQ = indexIVFPQ.search(query_vector, k)  # Búsqueda"
   ]
  },
  {
   "cell_type": "code",
   "execution_count": 44,
   "id": "65b582ba-356b-412d-9896-48b9b2480eda",
   "metadata": {},
   "outputs": [
    {
     "data": {
      "text/plain": [
       "array([[1519, 8275, 3326, 4255, 8481]])"
      ]
     },
     "execution_count": 44,
     "metadata": {},
     "output_type": "execute_result"
    }
   ],
   "source": [
    "rsIVFPQ"
   ]
  },
  {
   "cell_type": "code",
   "execution_count": 45,
   "id": "a49108e6-5983-4773-8b55-7f3a49ad4d74",
   "metadata": {},
   "outputs": [
    {
     "name": "stdout",
     "output_type": "stream",
     "text": [
      "CPU times: user 2 µs, sys: 0 ns, total: 2 µs\n",
      "Wall time: 6.44 µs\n"
     ]
    }
   ],
   "source": [
    "indexIVFPQ.nprobe = 10\n",
    "%time\n",
    "DIVFPQ, rsIVFPQ = indexIVFPQ.search(query_vector, k)  # Búsqueda"
   ]
  },
  {
   "cell_type": "code",
   "execution_count": 46,
   "id": "2264f4a7-0eb8-4a14-963a-871c1f243acc",
   "metadata": {},
   "outputs": [
    {
     "data": {
      "text/plain": [
       "array([[1501, 7125, 4249, 1519, 9829]])"
      ]
     },
     "execution_count": 46,
     "metadata": {},
     "output_type": "execute_result"
    }
   ],
   "source": [
    "rsIVFPQ"
   ]
  },
  {
   "cell_type": "code",
   "execution_count": 47,
   "id": "e326716b-da00-4fa5-bc11-045ccb500ac8",
   "metadata": {},
   "outputs": [],
   "source": [
    "faiss.write_index(indexIVFPQ, \"vaswani_faiss_ivfpq.ndx\")"
   ]
  },
  {
   "cell_type": "code",
   "execution_count": null,
   "id": "e7dfd37b-3704-4f89-be2b-bb6d0ff33ccf",
   "metadata": {},
   "outputs": [],
   "source": []
  },
  {
   "cell_type": "markdown",
   "id": "31862a61-539c-4e2a-8592-8625f812862d",
   "metadata": {},
   "source": [
    "### Tarea \n",
    "**Ejecutar todo el set de consultas y calcular el solapamiento promedio de las listas de \n",
    "resultados para nprobe = [1 .. 10]**"
   ]
  },
  {
   "cell_type": "code",
   "execution_count": null,
   "id": "dbc1817b-7df7-4a15-ad4d-1ed4639a759e",
   "metadata": {},
   "outputs": [],
   "source": []
  },
  {
   "cell_type": "code",
   "execution_count": null,
   "id": "9c8ab082-d698-47db-b606-7e6fad412a90",
   "metadata": {},
   "outputs": [],
   "source": []
  },
  {
   "cell_type": "code",
   "execution_count": null,
   "id": "f69474bc-544a-4a75-b75f-b4bcf0ee46e7",
   "metadata": {},
   "outputs": [],
   "source": []
  },
  {
   "cell_type": "code",
   "execution_count": null,
   "id": "9430459e-a53a-4c42-aa90-f103a5772747",
   "metadata": {},
   "outputs": [],
   "source": []
  },
  {
   "cell_type": "code",
   "execution_count": null,
   "id": "771667ec-6fc2-4f27-a294-59618876f435",
   "metadata": {},
   "outputs": [],
   "source": []
  },
  {
   "cell_type": "code",
   "execution_count": null,
   "id": "d36680aa-39cb-4fcf-8d25-33af5a008cbd",
   "metadata": {},
   "outputs": [],
   "source": []
  },
  {
   "cell_type": "code",
   "execution_count": null,
   "id": "4726b11d-84e1-4f61-a407-ac7055c80104",
   "metadata": {},
   "outputs": [],
   "source": []
  },
  {
   "cell_type": "code",
   "execution_count": null,
   "id": "928e7702-ae71-4066-9dfc-ee8af7fefdb5",
   "metadata": {},
   "outputs": [],
   "source": []
  }
 ],
 "metadata": {
  "kernelspec": {
   "display_name": "Python 3 (ipykernel)",
   "language": "python",
   "name": "python3"
  },
  "language_info": {
   "codemirror_mode": {
    "name": "ipython",
    "version": 3
   },
   "file_extension": ".py",
   "mimetype": "text/x-python",
   "name": "python",
   "nbconvert_exporter": "python",
   "pygments_lexer": "ipython3",
   "version": "3.11.5"
  }
 },
 "nbformat": 4,
 "nbformat_minor": 5
}
