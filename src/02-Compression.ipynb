{
 "cells": [
  {
   "cell_type": "code",
   "execution_count": 4,
   "id": "04a13ed0-4273-4275-9d9f-a7c4351526de",
   "metadata": {},
   "outputs": [],
   "source": [
    "import os\n",
    "import math\n",
    "import time\n",
    "import pandas as pd\n",
    "import numpy as np\n",
    "import pyterrier as pt"
   ]
  },
  {
   "cell_type": "code",
   "execution_count": 5,
   "id": "7ec8d7a3-688e-4205-8400-61d596a07cbc",
   "metadata": {},
   "outputs": [],
   "source": [
    "# Definimos algunas funciones"
   ]
  },
  {
   "cell_type": "code",
   "execution_count": 6,
   "id": "0db3ed7f-df35-4c93-8553-cea18b09e564",
   "metadata": {},
   "outputs": [],
   "source": [
    "log2 = lambda x: log(x, 2)"
   ]
  },
  {
   "cell_type": "code",
   "execution_count": 7,
   "id": "6180f7c2-e16c-4349-8d63-f578077b7570",
   "metadata": {},
   "outputs": [],
   "source": [
    "def Unary(x):\n",
    "    return (x-1)*'0'+'1'"
   ]
  },
  {
   "cell_type": "code",
   "execution_count": 8,
   "id": "81fe8d00-d4ac-4cae-bfaf-87bc96fb8ab4",
   "metadata": {},
   "outputs": [],
   "source": [
    "def Binary(x, l = 1):\n",
    "    s = '{0:0%db}' % l\n",
    "    return s.format(x)"
   ]
  },
  {
   "cell_type": "code",
   "execution_count": 9,
   "id": "3c201c96-ad21-4431-9ebb-aab82e624a5f",
   "metadata": {},
   "outputs": [],
   "source": [
    "def Elias_Gamma_Coding(x):\n",
    "    if(x == 0):\n",
    "        return '0'\n",
    "    #\n",
    "    n = 1 + int(math.log2(x))\n",
    "    b = x - 2**(int(math.log2(x)))\n",
    "    l = int(math.log2(x))\n",
    "    return Unary(n) + Binary(b, l)"
   ]
  },
  {
   "cell_type": "code",
   "execution_count": 10,
   "id": "03deb96d-fe54-4276-8a34-f8cc12c37ab1",
   "metadata": {},
   "outputs": [],
   "source": [
    "def Elias_Gamma_Decoding(x):\n",
    "    x = list(x)\n",
    "    K = 0\n",
    "    while True:\n",
    "        if not x[K] == '0':\n",
    "            break\n",
    "        K = K + 1\n",
    "    # Se leen K bits más desde '1'\n",
    "    x = x[K:2*K+1]\n",
    "    n = 0\n",
    "    x.reverse()\n",
    "    # Se convierte de binario a entero\n",
    "    for i in range(len(x)):\n",
    "        if x[i] == '1':\n",
    "            n = n+math.pow(2, i)\n",
    "    return int(n)"
   ]
  },
  {
   "cell_type": "code",
   "execution_count": 11,
   "id": "a18d6928-baf8-4b82-b95c-f70dfeeb1541",
   "metadata": {},
   "outputs": [],
   "source": [
    "def Variable_Byte_Coding(n):\n",
    "    finalBinary = ''\n",
    "\n",
    "    if n < 127:     # Alcanza solo 1 byte\n",
    "        binary = bin(n)[2:]\n",
    "        # Si la longitud del binario es < 7, se agregan 0s a la izquierda.\n",
    "        if len(binary) < 7:\n",
    "            binary = '1' + '0' * (7 - len(binary)) + binary\n",
    "        else:\n",
    "            binary = '1' + binary\n",
    "        #\n",
    "        finalBinary = binary\n",
    "    else:\n",
    "        length = len(bin(n)[2:])\n",
    "        # Convertir a binario\n",
    "        binary = bin(n)[2:]\n",
    "        # Se obtienen los 7 dígitos del binario y se le agrega un \"1\"\n",
    "        lowerBits = int('1' + binary[length - 7:])\n",
    "        # Se obtienen los bits \"altos\"\n",
    "        higherBits = ''\n",
    "        binary = binary[::-1]\n",
    "        #\n",
    "        for i in range(7, length, 7):         # Desde el 7mo bit del binario hasta el final, cada 7 bits.\n",
    "            higherBits = binary[i:i + 7]\n",
    "            higherBits = higherBits[::-1]\n",
    "            if len(higherBits) < 8:\n",
    "                higherBits = '0' * (8 - len(higherBits)) + higherBits\n",
    "            # \n",
    "            finalBinary = higherBits + finalBinary\n",
    "        #\n",
    "        finalBinary += str(lowerBits)\n",
    "    return finalBinary"
   ]
  },
  {
   "cell_type": "markdown",
   "id": "4741ed4c-71ee-4ccb-831b-d4fb767fdb86",
   "metadata": {},
   "source": [
    "### Pruebas simples con Elias Gamma"
   ]
  },
  {
   "cell_type": "code",
   "execution_count": 12,
   "id": "fcde5587-7461-48bc-a504-feeb50c8e47c",
   "metadata": {},
   "outputs": [
    {
     "data": {
      "text/plain": [
       "'000010001'"
      ]
     },
     "execution_count": 12,
     "metadata": {},
     "output_type": "execute_result"
    }
   ],
   "source": [
    "n = 17\n",
    "\n",
    "cn = Elias_Gamma_Coding(n)\n",
    "cn"
   ]
  },
  {
   "cell_type": "code",
   "execution_count": 13,
   "id": "79a0894f-05bb-4d05-88fc-7f8f5074e7cf",
   "metadata": {},
   "outputs": [
    {
     "data": {
      "text/plain": [
       "17"
      ]
     },
     "execution_count": 13,
     "metadata": {},
     "output_type": "execute_result"
    }
   ],
   "source": [
    "dn = Elias_Gamma_Decoding(cn)\n",
    "dn"
   ]
  },
  {
   "cell_type": "raw",
   "id": "97bb3a42-2a97-4354-987e-39deef53419c",
   "metadata": {},
   "source": []
  },
  {
   "cell_type": "markdown",
   "id": "e105d22e-928a-476a-b521-0b0f672376a6",
   "metadata": {},
   "source": [
    "**Tarea 1: Probar desde 1 hasta n tal que Elias_Gamma_Coding(n) requiera más bits que Binary(n)**"
   ]
  },
  {
   "cell_type": "markdown",
   "id": "8f310089-8253-4e71-9875-0b257307b4e9",
   "metadata": {},
   "source": [
    "### Pruebas simples con VByte"
   ]
  },
  {
   "cell_type": "code",
   "execution_count": 14,
   "id": "b264ba24-c7a2-4b77-9eb3-e1f41b353a6b",
   "metadata": {},
   "outputs": [
    {
     "data": {
      "text/plain": [
       "'10010001'"
      ]
     },
     "execution_count": 14,
     "metadata": {},
     "output_type": "execute_result"
    }
   ],
   "source": [
    "cn = Variable_Byte_Coding(n)\n",
    "cn"
   ]
  },
  {
   "cell_type": "code",
   "execution_count": 15,
   "id": "43ac50ce-0044-4f75-a8af-67d2ca46f05b",
   "metadata": {},
   "outputs": [
    {
     "data": {
      "text/plain": [
       "'11111111'"
      ]
     },
     "execution_count": 15,
     "metadata": {},
     "output_type": "execute_result"
    }
   ],
   "source": [
    "cn = Variable_Byte_Coding(127)\n",
    "cn"
   ]
  },
  {
   "cell_type": "code",
   "execution_count": 16,
   "id": "46c5f9c5-28f9-480b-94e5-8ff338c95bdf",
   "metadata": {},
   "outputs": [
    {
     "data": {
      "text/plain": [
       "'0000000110000000'"
      ]
     },
     "execution_count": 16,
     "metadata": {},
     "output_type": "execute_result"
    }
   ],
   "source": [
    "cn = Variable_Byte_Coding(128)\n",
    "cn"
   ]
  },
  {
   "cell_type": "markdown",
   "id": "65313a9e-6fc5-48c9-a4fc-697679675f35",
   "metadata": {},
   "source": [
    "**Tarea 3: Calcular en qué valor ocurre el siguiente salto en bytes (de 2 a 3)**"
   ]
  },
  {
   "cell_type": "markdown",
   "id": "16ce2b26-fa54-4b03-a7d0-49e2c56799bf",
   "metadata": {},
   "source": [
    "### Ejemplo con Bit Packing"
   ]
  },
  {
   "cell_type": "code",
   "execution_count": 17,
   "id": "0fffb3b2-b570-4ece-880b-dd80a692872a",
   "metadata": {},
   "outputs": [],
   "source": [
    "# Bit packing, cálculo de b (recordar que la lista no contiene los docIDs originales sino DGaps de éstos)\n",
    "bits_header = 4\n",
    "lista = [76, 53, 254, 55, 54, 48, 60, 212, 128, 37, 1, 1, 1, 2, 3, 1499, 220, 149, 121, 232]"
   ]
  },
  {
   "cell_type": "code",
   "execution_count": 18,
   "id": "c7cc0797-bbec-49fc-ae19-93f01cd82b01",
   "metadata": {},
   "outputs": [
    {
     "name": "stdout",
     "output_type": "stream",
     "text": [
      "Bit packing de la lista completa requiere 1719 bits\n"
     ]
    }
   ],
   "source": [
    "# Lista completa\n",
    "m = max(lista)\n",
    "b = math.ceil(math.log2(m))\n",
    "bits_totales_lista = m + b *len(lista)\n",
    "print (f'Bit packing de la lista completa requiere {bits_totales_lista} bits')"
   ]
  },
  {
   "cell_type": "code",
   "execution_count": 19,
   "id": "0ae09dcf-9099-42ae-80fd-8652bf4bc51a",
   "metadata": {},
   "outputs": [
    {
     "name": "stdout",
     "output_type": "stream",
     "text": [
      "[76, 53, 254, 55, 54, 48] max:  254  - b:  8\n",
      "[60, 212, 128, 37, 1, 1] max:  212  - b:  8\n",
      "[1, 2, 3, 1499, 220, 149] max:  1499  - b:  11\n",
      "[121, 232] max:  232  - b:  8\n",
      "\n",
      "Con bloques de tamaño 6 se requieren 226 bits\n",
      "Tasa de compresion: 7.61\n",
      "Ahorro            : 0.87\n"
     ]
    }
   ],
   "source": [
    "s = 6\n",
    "bits_totales_bloques = 0\n",
    "for i in range(0, len(lista), s):\n",
    "  bloque = lista[i:i+s]\n",
    "  m = max(bloque)\n",
    "  b = math.ceil(math.log2(m))\n",
    "  #\n",
    "  print (bloque, \"max: \", m, \" - b: \", b)\n",
    "  bits_bloque = bits_header + b * s\n",
    "  bits_totales_bloques += bits_bloque\n",
    "  #\n",
    "#\n",
    "print ()\n",
    "#print (\"Sin comprimir, las lista ocupa\")\n",
    "print (f'Con bloques de tamaño {s} se requieren {bits_totales_bloques} bits')\n",
    "\n",
    "tasa   = bits_totales_lista / bits_totales_bloques\n",
    "ahorro = 1 - bits_totales_bloques / bits_totales_lista\n",
    "\n",
    "print (f'Tasa de compresion: {round(tasa, 2)}')\n",
    "print (f'Ahorro            : {round(ahorro, 2)}')"
   ]
  },
  {
   "cell_type": "markdown",
   "id": "f611069d-f24f-4b3d-96e3-d3c19fac4747",
   "metadata": {},
   "source": [
    "**Tarea 4: Calcular la tasa de compresión para b = [3, 8]**"
   ]
  },
  {
   "cell_type": "markdown",
   "id": "91cccedb-9e51-4fb8-ac11-cc9e31d7236e",
   "metadata": {},
   "source": [
    "### Comprimir posting del corpus 'vaswani'"
   ]
  },
  {
   "cell_type": "code",
   "execution_count": 20,
   "id": "d214f1f6-9a66-409d-84a4-510f733a2e8f",
   "metadata": {},
   "outputs": [
    {
     "name": "stderr",
     "output_type": "stream",
     "text": [
      "PyTerrier 0.9.2 has loaded Terrier 5.7 (built by craigm on 2022-11-10 18:30) and terrier-helper 0.0.7\n",
      "\n",
      "No etc/terrier.properties, using terrier.default.properties for bootstrap configuration.\n"
     ]
    }
   ],
   "source": [
    "if not pt.started():\n",
    "    pt.init()"
   ]
  },
  {
   "cell_type": "code",
   "execution_count": 21,
   "id": "bab3c53b-fa12-4e69-8d9f-8f0cb8e990a1",
   "metadata": {},
   "outputs": [],
   "source": [
    "dataset = pt.datasets.get_dataset(\"vaswani\")"
   ]
  },
  {
   "cell_type": "code",
   "execution_count": 22,
   "id": "061f0b27-27f9-4763-8cb2-f8f4534449e1",
   "metadata": {},
   "outputs": [
    {
     "name": "stdout",
     "output_type": "stream",
     "text": [
      "{'docno': '1', 'text': 'compact memories have flexible capacities  a digital data storage\\nsystem with capacity up to bits and random and or sequential access\\nis described'}\n",
      "{'docno': '2', 'text': 'an electronic analogue computer for solving systems of linear equations\\nmathematical derivation of the operating principle and stability\\nconditions for a computer consisting of amplifiers'}\n",
      "{'docno': '3', 'text': 'electronic coordinate transformer  circuit details are given for\\nthe construction of an electronic calculating unit which enables\\nthe polar coordinates of a vector modulus and cosine or sine of the\\nargument to be derived from those of a rectangular system of axes'}\n",
      "{'docno': '4', 'text': 'the british computer society  report of a conference held in cambridge\\njune'}\n",
      "{'docno': '5', 'text': 'millimicrosecond digital computer logic  a system of fast pulse\\nlogic is described which combines the efficiency of transformer coupled\\nstages with digit delay tolerances approaching that of dc coupled\\nsystems  logical circuits for or and inverter and reclock are shown\\ntogether with a driver which permits a fan out factor of  transistor\\ncircuits are used through'}\n"
     ]
    }
   ],
   "source": [
    "for i, d in enumerate(dataset.get_corpus_iter()):\n",
    "    print (d)\n",
    "    if (i > 3):\n",
    "        break"
   ]
  },
  {
   "cell_type": "code",
   "execution_count": 23,
   "id": "bf761e36-44b8-4091-8b59-350577fed6aa",
   "metadata": {},
   "outputs": [],
   "source": [
    "index_path = \"./vaswani_index\"\n",
    "if os.path.exists(index_path):\n",
    "    index = pt.IndexFactory.of(index_path+\"/data.properties\")\n",
    "else:\n",
    "    indexer  = pt.TRECCollectionIndexer(index_path, blocks=True)\n",
    "    indexref = indexer.index(dataset.get_corpus())\n",
    "    index = pt.IndexFactory.of(indexref)"
   ]
  },
  {
   "cell_type": "code",
   "execution_count": 24,
   "id": "628d6f65-3386-43f3-af4e-6e989d050eb4",
   "metadata": {},
   "outputs": [
    {
     "name": "stdout",
     "output_type": "stream",
     "text": [
      "Number of documents: 11429\n",
      "Number of terms: 7756\n",
      "Number of postings: 224573\n",
      "Number of fields: 0\n",
      "Number of tokens: 271581\n",
      "Field names: []\n",
      "Positions:   true\n",
      "\n"
     ]
    }
   ],
   "source": [
    "print(index.getCollectionStatistics().toString())"
   ]
  },
  {
   "cell_type": "code",
   "execution_count": 25,
   "id": "a1fde28e-1767-4c16-908e-37446d75a34c",
   "metadata": {},
   "outputs": [],
   "source": [
    "lex = index.getLexicon()"
   ]
  },
  {
   "cell_type": "code",
   "execution_count": null,
   "id": "72a4297f-1186-4bf4-a709-4dcba52d8238",
   "metadata": {},
   "outputs": [],
   "source": []
  },
  {
   "cell_type": "code",
   "execution_count": 26,
   "id": "44267000-4e31-4a70-8d4f-8cc36cb60962",
   "metadata": {},
   "outputs": [
    {
     "name": "stdout",
     "output_type": "stream",
     "text": [
      "[948, 950, 2863, 3164, 3462, 3496, 4898, 4953, 5071, 5538, 5667, 5815, 6711, 6829, 6862, 6942, 6991, 7436, 7870, 8557, 8959, 9236, 9778, 9974, 10159, 10857]\n",
      "[1, 1, 1, 1, 1, 1, 1, 1, 1, 1, 1, 1, 2, 1, 1, 1, 1, 2, 2, 1, 2, 1, 1, 1, 1, 2]\n"
     ]
    }
   ],
   "source": [
    "# Posting list del término ´x´\n",
    "meta = index.getMetaIndex()\n",
    "inv  = index.getInvertedIndex()\n",
    "#\n",
    "le = lex.getLexiconEntry(\"run\")\n",
    "\n",
    "\n",
    "list_docs  = []\n",
    "list_freqs = []\n",
    "# the lexicon entry is also our pointer to access the inverted index posting list\n",
    "for posting in inv.getPostings(le):\n",
    "    docno = meta.getItem(\"docno\", posting.getId())\n",
    "    #print(\"(%s, %d), \" % (docno, posting.getFrequency()), end = '')\n",
    "    list_docs.append(int(docno))\n",
    "    list_freqs.append(int(posting.getFrequency()))\n",
    "#\n",
    "print (list_docs)\n",
    "print (list_freqs) "
   ]
  },
  {
   "cell_type": "code",
   "execution_count": 27,
   "id": "cdf48aa9-eab2-4b5e-97e3-79cacfd6e974",
   "metadata": {},
   "outputs": [],
   "source": [
    "def compute_dgaps(docids):\n",
    "    refval = docids[0]\n",
    "    dgaps  = [refval]\n",
    "    for cur in range(1, len(docids)):\n",
    "        this_gap = docids[cur] - refval\n",
    "        #print (cur, refval, docids[cur], this_gap)\n",
    "        refval   = docids[cur]\n",
    "        dgaps.append(this_gap)\n",
    "    return dgaps"
   ]
  },
  {
   "cell_type": "code",
   "execution_count": 28,
   "id": "60859b03-a966-4a53-a7dd-c0ab198ec2bc",
   "metadata": {},
   "outputs": [
    {
     "data": {
      "text/plain": [
       "[948,\n",
       " 2,\n",
       " 1913,\n",
       " 301,\n",
       " 298,\n",
       " 34,\n",
       " 1402,\n",
       " 55,\n",
       " 118,\n",
       " 467,\n",
       " 129,\n",
       " 148,\n",
       " 896,\n",
       " 118,\n",
       " 33,\n",
       " 80,\n",
       " 49,\n",
       " 445,\n",
       " 434,\n",
       " 687,\n",
       " 402,\n",
       " 277,\n",
       " 542,\n",
       " 196,\n",
       " 185,\n",
       " 698]"
      ]
     },
     "execution_count": 28,
     "metadata": {},
     "output_type": "execute_result"
    }
   ],
   "source": [
    "compute_dgaps(list_docs)"
   ]
  },
  {
   "cell_type": "code",
   "execution_count": 29,
   "id": "527f4779-c547-4b11-93c7-57158aa36a62",
   "metadata": {},
   "outputs": [],
   "source": [
    "# Librería de codecs de compresión\n",
    "from pyfastpfor import *"
   ]
  },
  {
   "cell_type": "code",
   "execution_count": 30,
   "id": "76955f95-098c-4120-9c6e-eb9ae2026e45",
   "metadata": {},
   "outputs": [
    {
     "data": {
      "text/plain": [
       "['BP32',\n",
       " 'copy',\n",
       " 'fastbinarypacking16',\n",
       " 'fastbinarypacking32',\n",
       " 'fastbinarypacking8',\n",
       " 'fastpfor128',\n",
       " 'fastpfor256',\n",
       " 'maskedvbyte',\n",
       " 'newpfor',\n",
       " 'optpfor',\n",
       " 'pfor',\n",
       " 'pfor2008',\n",
       " 'simdbinarypacking',\n",
       " 'simdfastpfor128',\n",
       " 'simdfastpfor256',\n",
       " 'simdgroupsimple',\n",
       " 'simdgroupsimple_ringbuf',\n",
       " 'simdnewpfor',\n",
       " 'simdoptpfor',\n",
       " 'simdpfor',\n",
       " 'simdsimplepfor',\n",
       " 'simple16',\n",
       " 'simple8b',\n",
       " 'simple8b_rle',\n",
       " 'simple9',\n",
       " 'simple9_rle',\n",
       " 'simplepfor',\n",
       " 'streamvbyte',\n",
       " 'varint',\n",
       " 'varintg8iu',\n",
       " 'varintgb',\n",
       " 'vbyte',\n",
       " 'vsencoding']"
      ]
     },
     "execution_count": 30,
     "metadata": {},
     "output_type": "execute_result"
    }
   ],
   "source": [
    "getCodecList()"
   ]
  },
  {
   "cell_type": "code",
   "execution_count": 31,
   "id": "945655ef-869e-413d-84be-0f55fe5a889e",
   "metadata": {},
   "outputs": [],
   "source": [
    "def comprimir_lista(lista_in, mycodec):\n",
    "    # Comprimir ' lista_in' \n",
    "    lista_size = len(lista_in)\n",
    "\n",
    "    # Inicializar estructuras de datos. Se reserva memoria adicional por el \n",
    "    # caso en que los datos comprimidos ocupen más que los no comprimidos.\n",
    "    # Para la compresión\n",
    "    lista_comp   = np.zeros(lista_size + 1024, dtype = np.uint32, order = 'C')\n",
    "    # Para la descompresión\n",
    "    lista_decomp = np.zeros(lista_size, dtype = np.uint32, order = 'C')\n",
    "    # Inicializar un codec (usando su nombre)\n",
    "    codec = getCodec(mycodec)\n",
    "    \n",
    "    #\n",
    "    start = time.time()\n",
    "    # Comprimir\n",
    "    lista_comp_size = codec.encodeArray(lista_in, lista_size, lista_comp, len(lista_decomp))\n",
    "    compress_time = time.time() - start\n",
    "    #\n",
    "    start = time.time()\n",
    "    # Descomprimir y chqequear (no) pérdida.\n",
    "    assert(lista_size == codec.decodeArray(lista_comp, lista_comp_size, lista_decomp, lista_size))\n",
    "    decompress_time = time.time() - start\n",
    "    \n",
    "    assert(np.all(lista_decomp == lista_in))\n",
    "    \n",
    "    # Calcular tasa de compresión\n",
    "    tasa = float(lista_size) / lista_comp_size\n",
    "    #\n",
    "    \n",
    "    return tasa, compress_time*1000, decompress_time*1000"
   ]
  },
  {
   "cell_type": "code",
   "execution_count": 32,
   "id": "7a7a9e4d-fbc7-46ac-ab97-426c894c4ec3",
   "metadata": {},
   "outputs": [],
   "source": [
    "mycodec = 'vbyte'"
   ]
  },
  {
   "cell_type": "code",
   "execution_count": 33,
   "id": "8fc31402-8c83-4ac2-8e3a-2e9cccc5ac7d",
   "metadata": {},
   "outputs": [
    {
     "name": "stdout",
     "output_type": "stream",
     "text": [
      "Long. lista: 26, codec *vbyte*, tasa de compresión 2.0\n"
     ]
    }
   ],
   "source": [
    "list_in = list_docs\n",
    "tasa, ct, dt = comprimir_lista(list_in, mycodec)\n",
    "print(f'Long. lista: {len(list_docs)}, codec *{mycodec}*, tasa de compresión {round(tasa, 2)}')"
   ]
  },
  {
   "cell_type": "code",
   "execution_count": 34,
   "id": "5fff776b-33b2-4f4b-b86f-1f39482e26b8",
   "metadata": {},
   "outputs": [
    {
     "name": "stdout",
     "output_type": "stream",
     "text": [
      "Long. lista: 26, codec *vbyte*, tasa de compresión 2.36\n"
     ]
    }
   ],
   "source": [
    "list_in = compute_dgaps(list_docs)\n",
    "tasa, ct, dt = comprimir_lista(list_in, mycodec)\n",
    "print(f'Long. lista: {len(list_docs)}, codec *{mycodec}*, tasa de compresión {round(tasa, 2)}')"
   ]
  },
  {
   "cell_type": "markdown",
   "id": "3cce92ec-b9a4-421a-9f16-9209356e7d2d",
   "metadata": {},
   "source": [
    "**Tarea 5: Probar con listas de otros términos (más largas). Por ejemplo, 'electron'**"
   ]
  },
  {
   "cell_type": "markdown",
   "id": "b54582f1-e6a2-41ce-9e70-2a7509b171b5",
   "metadata": {},
   "source": [
    "### Tradeoff tiempo/espacio"
   ]
  },
  {
   "cell_type": "code",
   "execution_count": 35,
   "id": "f5795436-89c4-4f7e-ac88-bf6835be8a93",
   "metadata": {},
   "outputs": [],
   "source": [
    "import random\n",
    "\n",
    "n = 1000000\n",
    "randomlist = random.sample(range(1, 100000000), n)\n",
    "test_list = compute_dgaps(sorted(randomlist))"
   ]
  },
  {
   "cell_type": "code",
   "execution_count": 36,
   "id": "625be587-56a1-4d92-8a2e-788f8d6571fc",
   "metadata": {},
   "outputs": [],
   "source": [
    "test_codecs = ['pfor', 'simdbinarypacking', 'vbyte', 'simdpfor']\n",
    "#test_codecs = ['newpfor', 'pfor', 'optpfor', 'pfor2008']"
   ]
  },
  {
   "cell_type": "code",
   "execution_count": null,
   "id": "a0c4fad0-c234-4524-b135-11512edefc9b",
   "metadata": {},
   "outputs": [],
   "source": []
  },
  {
   "cell_type": "code",
   "execution_count": 37,
   "id": "57d9513f-f0aa-42c9-9c9e-8c4197519236",
   "metadata": {},
   "outputs": [],
   "source": [
    "df_plot = pd.DataFrame(columns = ['codec', 'tasa', 'compress_time','decompress_time'])\n",
    "for mycodec in test_codecs:\n",
    "    tasa, ct, dt = comprimir_lista(test_list, mycodec)\n",
    "    #print (mycodec, tasa, ct, dt)\n",
    "    df_plot.loc[len(df_plot.index)] = [mycodec, tasa, ct, dt] "
   ]
  },
  {
   "cell_type": "code",
   "execution_count": 38,
   "id": "f87d9a58-5c00-4101-9f26-4eeeaeb48f8d",
   "metadata": {},
   "outputs": [
    {
     "data": {
      "text/html": [
       "<div>\n",
       "<style scoped>\n",
       "    .dataframe tbody tr th:only-of-type {\n",
       "        vertical-align: middle;\n",
       "    }\n",
       "\n",
       "    .dataframe tbody tr th {\n",
       "        vertical-align: top;\n",
       "    }\n",
       "\n",
       "    .dataframe thead th {\n",
       "        text-align: right;\n",
       "    }\n",
       "</style>\n",
       "<table border=\"1\" class=\"dataframe\">\n",
       "  <thead>\n",
       "    <tr style=\"text-align: right;\">\n",
       "      <th></th>\n",
       "      <th>codec</th>\n",
       "      <th>tasa</th>\n",
       "      <th>compress_time</th>\n",
       "      <th>decompress_time</th>\n",
       "    </tr>\n",
       "  </thead>\n",
       "  <tbody>\n",
       "    <tr>\n",
       "      <th>0</th>\n",
       "      <td>pfor</td>\n",
       "      <td>3.390003</td>\n",
       "      <td>33.726215</td>\n",
       "      <td>0.606775</td>\n",
       "    </tr>\n",
       "    <tr>\n",
       "      <th>1</th>\n",
       "      <td>simdbinarypacking</td>\n",
       "      <td>3.333022</td>\n",
       "      <td>28.591871</td>\n",
       "      <td>0.369787</td>\n",
       "    </tr>\n",
       "    <tr>\n",
       "      <th>2</th>\n",
       "      <td>vbyte</td>\n",
       "      <td>3.127952</td>\n",
       "      <td>30.219316</td>\n",
       "      <td>2.491236</td>\n",
       "    </tr>\n",
       "    <tr>\n",
       "      <th>3</th>\n",
       "      <td>simdpfor</td>\n",
       "      <td>3.390003</td>\n",
       "      <td>31.737328</td>\n",
       "      <td>1.102924</td>\n",
       "    </tr>\n",
       "  </tbody>\n",
       "</table>\n",
       "</div>"
      ],
      "text/plain": [
       "               codec      tasa  compress_time  decompress_time\n",
       "0               pfor  3.390003      33.726215         0.606775\n",
       "1  simdbinarypacking  3.333022      28.591871         0.369787\n",
       "2              vbyte  3.127952      30.219316         2.491236\n",
       "3           simdpfor  3.390003      31.737328         1.102924"
      ]
     },
     "execution_count": 38,
     "metadata": {},
     "output_type": "execute_result"
    }
   ],
   "source": [
    "df_plot"
   ]
  },
  {
   "cell_type": "code",
   "execution_count": 39,
   "id": "0ffa1fd2-3139-4231-80bf-1656854399d8",
   "metadata": {},
   "outputs": [],
   "source": [
    "import seaborn as sns\n",
    "import matplotlib.pyplot as plt\n"
   ]
  },
  {
   "cell_type": "code",
   "execution_count": 47,
   "id": "a542b4f1-8331-48d8-a55c-3148b53f3d99",
   "metadata": {},
   "outputs": [
    {
     "data": {
      "image/png": "[encoded data removed]",
      "text/plain": [
       "<Figure size 640x480 with 1 Axes>"
      ]
     },
     "metadata": {},
     "output_type": "display_data"
    }
   ],
   "source": [
    "g = sns.scatterplot(data=df_plot, x=\"tasa\", y=\"decompress_time\", hue=\"codec\", style=\"codec\", s = 100)\n",
    "plt.legend(loc='upper left', bbox_to_anchor=(1, 1))\n",
    "plt.grid()  \n",
    "plt.show()"
   ]
  },
  {
   "cell_type": "code",
   "execution_count": null,
   "id": "e6d9b3a0-a21a-43e8-8cea-4a3d76f18347",
   "metadata": {},
   "outputs": [],
   "source": []
  }
 ],
 "metadata": {
  "kernelspec": {
   "display_name": "Python 3 (ipykernel)",
   "language": "python",
   "name": "python3"
  },
  "language_info": {
   "codemirror_mode": {
    "name": "ipython",
    "version": 3
   },
   "file_extension": ".py",
   "mimetype": "text/x-python",
   "name": "python",
   "nbconvert_exporter": "python",
   "pygments_lexer": "ipython3",
   "version": "3.11.4"
  }
 },
 "nbformat": 4,
 "nbformat_minor": 5
}
