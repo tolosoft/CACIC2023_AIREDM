{
 "cells": [
  {
   "cell_type": "code",
   "execution_count": null,
   "id": "04a13ed0-4273-4275-9d9f-a7c4351526de",
   "metadata": {},
   "outputs": [],
   "source": [
    "import os\n",
    "import math\n",
    "import time\n",
    "import pandas as pd\n",
    "import numpy as np\n",
    "import pyterrier as pt\n",
    "import matplotlib.pyplot as plt"
   ]
  },
  {
   "cell_type": "code",
   "execution_count": null,
   "id": "7ec8d7a3-688e-4205-8400-61d596a07cbc",
   "metadata": {},
   "outputs": [],
   "source": [
    "# Definimos algunas funciones"
   ]
  },
  {
   "cell_type": "code",
   "execution_count": null,
   "id": "0db3ed7f-df35-4c93-8553-cea18b09e564",
   "metadata": {},
   "outputs": [],
   "source": [
    "log2 = lambda x: log(x, 2)"
   ]
  },
  {
   "cell_type": "code",
   "execution_count": null,
   "id": "6180f7c2-e16c-4349-8d63-f578077b7570",
   "metadata": {},
   "outputs": [],
   "source": [
    "def Unary(x):\n",
    "    return (x-1)*'0'+'1'"
   ]
  },
  {
   "cell_type": "code",
   "execution_count": null,
   "id": "81fe8d00-d4ac-4cae-bfaf-87bc96fb8ab4",
   "metadata": {},
   "outputs": [],
   "source": [
    "def Binary(x, l = 1):\n",
    "    s = '{0:0%db}' % l\n",
    "    return s.format(x)"
   ]
  },
  {
   "cell_type": "code",
   "execution_count": null,
   "id": "3c201c96-ad21-4431-9ebb-aab82e624a5f",
   "metadata": {},
   "outputs": [],
   "source": [
    "def Elias_Gamma_Coding(x):\n",
    "    if(x == 0):\n",
    "        return '0'\n",
    "    #\n",
    "    n = 1 + int(math.log2(x))\n",
    "    b = x - 2**(int(math.log2(x)))\n",
    "    l = int(math.log2(x))\n",
    "    return Unary(n) + Binary(b, l)"
   ]
  },
  {
   "cell_type": "code",
   "execution_count": null,
   "id": "03deb96d-fe54-4276-8a34-f8cc12c37ab1",
   "metadata": {},
   "outputs": [],
   "source": [
    "def Elias_Gamma_Decoding(x):\n",
    "    x = list(x)\n",
    "    K = 0\n",
    "    while True:\n",
    "        if not x[K] == '0':\n",
    "            break\n",
    "        K = K + 1\n",
    "    # Se leen K bits más desde '1'\n",
    "    x = x[K:2*K+1]\n",
    "    n = 0\n",
    "    x.reverse()\n",
    "    # Se convierte de binario a entero\n",
    "    for i in range(len(x)):\n",
    "        if x[i] == '1':\n",
    "            n = n+math.pow(2, i)\n",
    "    return int(n)"
   ]
  },
  {
   "cell_type": "code",
   "execution_count": null,
   "id": "a18d6928-baf8-4b82-b95c-f70dfeeb1541",
   "metadata": {},
   "outputs": [],
   "source": [
    "def Variable_Byte_Coding(n):\n",
    "    finalBinary = ''\n",
    "\n",
    "    if n < 127:     # Alcanza solo 1 byte\n",
    "        binary = bin(n)[2:]\n",
    "        # Si la longitud del binario es < 7, se agregan 0s a la izquierda.\n",
    "        if len(binary) < 7:\n",
    "            binary = '1' + '0' * (7 - len(binary)) + binary\n",
    "        else:\n",
    "            binary = '1' + binary\n",
    "        #\n",
    "        finalBinary = binary\n",
    "    else:\n",
    "        length = len(bin(n)[2:])\n",
    "        # Convertir a binario\n",
    "        binary = bin(n)[2:]\n",
    "        # Se obtienen los 7 dígitos del binario y se le agrega un \"1\"\n",
    "        lowerBits = int('1' + binary[length - 7:])\n",
    "        # Se obtienen los bits \"altos\"\n",
    "        higherBits = ''\n",
    "        binary = binary[::-1]\n",
    "        #\n",
    "        for i in range(7, length, 7):         # Desde el 7mo bit del binario hasta el final, cada 7 bits.\n",
    "            higherBits = binary[i:i + 7]\n",
    "            higherBits = higherBits[::-1]\n",
    "            if len(higherBits) < 8:\n",
    "                higherBits = '0' * (8 - len(higherBits)) + higherBits\n",
    "            # \n",
    "            finalBinary = higherBits + finalBinary\n",
    "        #\n",
    "        finalBinary += str(lowerBits)\n",
    "    return finalBinary"
   ]
  },
  {
   "cell_type": "markdown",
   "id": "4741ed4c-71ee-4ccb-831b-d4fb767fdb86",
   "metadata": {},
   "source": [
    "---\n",
    "### MAIN\n",
    "---\n",
    "#### Pruebas simples con Elias Gamma"
   ]
  },
  {
   "cell_type": "code",
   "execution_count": null,
   "id": "fcde5587-7461-48bc-a504-feeb50c8e47c",
   "metadata": {},
   "outputs": [],
   "source": [
    "n = 17\n",
    "\n",
    "cn = Elias_Gamma_Coding(n)\n",
    "cn"
   ]
  },
  {
   "cell_type": "code",
   "execution_count": null,
   "id": "79a0894f-05bb-4d05-88fc-7f8f5074e7cf",
   "metadata": {},
   "outputs": [],
   "source": [
    "dn = Elias_Gamma_Decoding(cn)\n",
    "dn"
   ]
  },
  {
   "cell_type": "raw",
   "id": "97bb3a42-2a97-4354-987e-39deef53419c",
   "metadata": {},
   "source": []
  },
  {
   "cell_type": "markdown",
   "id": "e105d22e-928a-476a-b521-0b0f672376a6",
   "metadata": {},
   "source": [
    "**Tarea 1: Probar desde 1 hasta n tal que Elias_Gamma_Coding(n) requiera más bits que Binary(n)**"
   ]
  },
  {
   "cell_type": "markdown",
   "id": "8f310089-8253-4e71-9875-0b257307b4e9",
   "metadata": {},
   "source": [
    "### Pruebas simples con VByte"
   ]
  },
  {
   "cell_type": "code",
   "execution_count": null,
   "id": "b264ba24-c7a2-4b77-9eb3-e1f41b353a6b",
   "metadata": {},
   "outputs": [],
   "source": [
    "cn = Variable_Byte_Coding(n)\n",
    "cn"
   ]
  },
  {
   "cell_type": "code",
   "execution_count": null,
   "id": "43ac50ce-0044-4f75-a8af-67d2ca46f05b",
   "metadata": {},
   "outputs": [],
   "source": [
    "cn = Variable_Byte_Coding(127)\n",
    "cn"
   ]
  },
  {
   "cell_type": "code",
   "execution_count": null,
   "id": "46c5f9c5-28f9-480b-94e5-8ff338c95bdf",
   "metadata": {},
   "outputs": [],
   "source": [
    "cn = Variable_Byte_Coding(128)\n",
    "cn"
   ]
  },
  {
   "cell_type": "markdown",
   "id": "65313a9e-6fc5-48c9-a4fc-697679675f35",
   "metadata": {},
   "source": [
    "**Tarea 2: Calcular en qué valor ocurre el siguiente salto en bytes (de 2 a 3)**"
   ]
  },
  {
   "cell_type": "markdown",
   "id": "16ce2b26-fa54-4b03-a7d0-49e2c56799bf",
   "metadata": {},
   "source": [
    "### Ejemplo con Bit Packing"
   ]
  },
  {
   "cell_type": "code",
   "execution_count": null,
   "id": "0fffb3b2-b570-4ece-880b-dd80a692872a",
   "metadata": {},
   "outputs": [],
   "source": [
    "# Bit packing, cálculo de b (recordar que la lista no contiene los docIDs originales sino DGaps de éstos)\n",
    "bits_header = 4\n",
    "lista = [76, 53, 254, 55, 54, 48, 60, 212, 128, 37, 1, 1, 1, 2, 3, 1499, 220, 149, 121, 232]"
   ]
  },
  {
   "cell_type": "code",
   "execution_count": null,
   "id": "c7cc0797-bbec-49fc-ae19-93f01cd82b01",
   "metadata": {},
   "outputs": [],
   "source": [
    "# Lista completa\n",
    "m = max(lista)\n",
    "b = math.ceil(math.log2(m))\n",
    "bits_totales_lista = m + b *len(lista)\n",
    "print (f'Bit packing de la lista completa requiere {bits_totales_lista} bits')"
   ]
  },
  {
   "cell_type": "code",
   "execution_count": null,
   "id": "0ae09dcf-9099-42ae-80fd-8652bf4bc51a",
   "metadata": {},
   "outputs": [],
   "source": [
    "s = 6\n",
    "bits_totales_bloques = 0\n",
    "for i in range(0, len(lista), s):\n",
    "  bloque = lista[i:i+s]\n",
    "  m = max(bloque)\n",
    "  b = math.ceil(math.log2(m))\n",
    "  #\n",
    "  print (bloque, \"max: \", m, \" - b: \", b)\n",
    "  bits_bloque = bits_header + b * s\n",
    "  bits_totales_bloques += bits_bloque\n",
    "  #\n",
    "#\n",
    "print ()\n",
    "#print (\"Sin comprimir, las lista ocupa\")\n",
    "print (f'Con bloques de tamaño {s} se requieren {bits_totales_bloques} bits')\n",
    "\n",
    "tasa   = bits_totales_lista / bits_totales_bloques\n",
    "ahorro = 1 - bits_totales_bloques / bits_totales_lista\n",
    "\n",
    "print (f'Tasa de compresion: {round(tasa, 2)}')\n",
    "print (f'Ahorro            : {round(ahorro, 2)}')"
   ]
  },
  {
   "cell_type": "markdown",
   "id": "f611069d-f24f-4b3d-96e3-d3c19fac4747",
   "metadata": {},
   "source": [
    "**Tarea 3: Calcular la tasa de compresión para s = [3, 8]**"
   ]
  },
  {
   "cell_type": "markdown",
   "id": "91cccedb-9e51-4fb8-ac11-cc9e31d7236e",
   "metadata": {},
   "source": [
    "### Comprimir posting del corpus 'vaswani'"
   ]
  },
  {
   "cell_type": "code",
   "execution_count": null,
   "id": "d214f1f6-9a66-409d-84a4-510f733a2e8f",
   "metadata": {},
   "outputs": [],
   "source": [
    "if not pt.started():\n",
    "    pt.init()"
   ]
  },
  {
   "cell_type": "code",
   "execution_count": null,
   "id": "bab3c53b-fa12-4e69-8d9f-8f0cb8e990a1",
   "metadata": {},
   "outputs": [],
   "source": [
    "dataset = pt.datasets.get_dataset(\"vaswani\")"
   ]
  },
  {
   "cell_type": "code",
   "execution_count": null,
   "id": "061f0b27-27f9-4763-8cb2-f8f4534449e1",
   "metadata": {},
   "outputs": [],
   "source": [
    "for i, d in enumerate(dataset.get_corpus_iter()):\n",
    "    print (d)\n",
    "    if (i > 3):\n",
    "        break"
   ]
  },
  {
   "cell_type": "code",
   "execution_count": null,
   "id": "bf761e36-44b8-4091-8b59-350577fed6aa",
   "metadata": {},
   "outputs": [],
   "source": [
    "index_path = \"./vaswani_index\"\n",
    "if os.path.exists(index_path):\n",
    "    index = pt.IndexFactory.of(index_path+\"/data.properties\")\n",
    "else:\n",
    "    indexer  = pt.TRECCollectionIndexer(index_path, blocks=True)\n",
    "    indexref = indexer.index(dataset.get_corpus())\n",
    "    index = pt.IndexFactory.of(indexref)"
   ]
  },
  {
   "cell_type": "code",
   "execution_count": null,
   "id": "628d6f65-3386-43f3-af4e-6e989d050eb4",
   "metadata": {},
   "outputs": [],
   "source": [
    "print(index.getCollectionStatistics().toString())"
   ]
  },
  {
   "cell_type": "code",
   "execution_count": null,
   "id": "a1fde28e-1767-4c16-908e-37446d75a34c",
   "metadata": {},
   "outputs": [],
   "source": [
    "lex = index.getLexicon()"
   ]
  },
  {
   "cell_type": "code",
   "execution_count": null,
   "id": "44267000-4e31-4a70-8d4f-8cc36cb60962",
   "metadata": {},
   "outputs": [],
   "source": [
    "# Posting list del término ´x´\n",
    "meta = index.getMetaIndex()\n",
    "inv  = index.getInvertedIndex()\n",
    "#\n",
    "le = lex.getLexiconEntry(\"run\")\n",
    "\n",
    "\n",
    "list_docs  = []\n",
    "list_freqs = []\n",
    "# the lexicon entry is also our pointer to access the inverted index posting list\n",
    "for posting in inv.getPostings(le):\n",
    "    docno = meta.getItem(\"docno\", posting.getId())\n",
    "    #print(\"(%s, %d), \" % (docno, posting.getFrequency()), end = '')\n",
    "    list_docs.append(int(docno))\n",
    "    list_freqs.append(int(posting.getFrequency()))\n",
    "#\n",
    "print (list_docs)\n",
    "print (list_freqs) "
   ]
  },
  {
   "cell_type": "code",
   "execution_count": null,
   "id": "cdf48aa9-eab2-4b5e-97e3-79cacfd6e974",
   "metadata": {},
   "outputs": [],
   "source": [
    "def compute_dgaps(docids):\n",
    "    refval = docids[0]\n",
    "    dgaps  = [refval]\n",
    "    for cur in range(1, len(docids)):\n",
    "        this_gap = docids[cur] - refval\n",
    "        #print (cur, refval, docids[cur], this_gap)\n",
    "        refval   = docids[cur]\n",
    "        dgaps.append(this_gap)\n",
    "    return dgaps"
   ]
  },
  {
   "cell_type": "code",
   "execution_count": null,
   "id": "60859b03-a966-4a53-a7dd-c0ab198ec2bc",
   "metadata": {},
   "outputs": [],
   "source": [
    "compute_dgaps(list_docs)"
   ]
  },
  {
   "cell_type": "code",
   "execution_count": null,
   "id": "527f4779-c547-4b11-93c7-57158aa36a62",
   "metadata": {},
   "outputs": [],
   "source": [
    "# Librería de codecs de compresión\n",
    "from pyfastpfor import *"
   ]
  },
  {
   "cell_type": "code",
   "execution_count": null,
   "id": "76955f95-098c-4120-9c6e-eb9ae2026e45",
   "metadata": {},
   "outputs": [],
   "source": [
    "getCodecList()"
   ]
  },
  {
   "cell_type": "code",
   "execution_count": null,
   "id": "945655ef-869e-413d-84be-0f55fe5a889e",
   "metadata": {},
   "outputs": [],
   "source": [
    "def comprimir_lista(lista_in, mycodec):\n",
    "    # Comprimir ' lista_in' \n",
    "    lista_size = len(lista_in)\n",
    "\n",
    "    # Inicializar estructuras de datos. Se reserva memoria adicional por el \n",
    "    # caso en que los datos comprimidos ocupen más que los no comprimidos.\n",
    "    # Para la compresión\n",
    "    lista_comp   = np.zeros(lista_size + 1024, dtype = np.uint32, order = 'C')\n",
    "    # Para la descompresión\n",
    "    lista_decomp = np.zeros(lista_size, dtype = np.uint32, order = 'C')\n",
    "    # Inicializar un codec (usando su nombre)\n",
    "    codec = getCodec(mycodec)\n",
    "    \n",
    "    #\n",
    "    start = time.time()\n",
    "    # Comprimir\n",
    "    lista_comp_size = codec.encodeArray(lista_in, lista_size, lista_comp, len(lista_decomp))\n",
    "    compress_time = time.time() - start\n",
    "    #\n",
    "    start = time.time()\n",
    "    # Descomprimir y chqequear (no) pérdida.\n",
    "    assert(lista_size == codec.decodeArray(lista_comp, lista_comp_size, lista_decomp, lista_size))\n",
    "    decompress_time = time.time() - start\n",
    "    \n",
    "    assert(np.all(lista_decomp == lista_in))\n",
    "    \n",
    "    # Calcular tasa de compresión\n",
    "    tasa = float(lista_size) / lista_comp_size\n",
    "    #\n",
    "    \n",
    "    return tasa, compress_time*1000, decompress_time*1000"
   ]
  },
  {
   "cell_type": "code",
   "execution_count": null,
   "id": "7a7a9e4d-fbc7-46ac-ab97-426c894c4ec3",
   "metadata": {},
   "outputs": [],
   "source": [
    "mycodec = 'vbyte'"
   ]
  },
  {
   "cell_type": "code",
   "execution_count": null,
   "id": "8fc31402-8c83-4ac2-8e3a-2e9cccc5ac7d",
   "metadata": {},
   "outputs": [],
   "source": [
    "list_in = list_docs\n",
    "tasa, ct, dt = comprimir_lista(list_in, mycodec)\n",
    "print(f'Long. lista: {len(list_docs)}, codec *{mycodec}*, tasa de compresión {round(tasa, 2)}')"
   ]
  },
  {
   "cell_type": "code",
   "execution_count": null,
   "id": "5fff776b-33b2-4f4b-b86f-1f39482e26b8",
   "metadata": {},
   "outputs": [],
   "source": [
    "list_in = compute_dgaps(list_docs)\n",
    "tasa, ct, dt = comprimir_lista(list_in, mycodec)\n",
    "print(f'Long. lista: {len(list_docs)}, codec *{mycodec}*, tasa de compresión {round(tasa, 2)}')"
   ]
  },
  {
   "cell_type": "markdown",
   "id": "3cce92ec-b9a4-421a-9f16-9209356e7d2d",
   "metadata": {},
   "source": [
    "**Tarea 4: Probar con listas de otros términos (más largas). Por ejemplo, 'electron'**"
   ]
  },
  {
   "cell_type": "markdown",
   "id": "b54582f1-e6a2-41ce-9e70-2a7509b171b5",
   "metadata": {},
   "source": [
    "### Tradeoff tiempo/espacio"
   ]
  },
  {
   "cell_type": "code",
   "execution_count": null,
   "id": "f5795436-89c4-4f7e-ac88-bf6835be8a93",
   "metadata": {},
   "outputs": [],
   "source": [
    "import random\n",
    "\n",
    "n = 1000000\n",
    "randomlist = random.sample(range(1, 100000000), n)\n",
    "test_list = compute_dgaps(sorted(randomlist))"
   ]
  },
  {
   "cell_type": "code",
   "execution_count": null,
   "id": "625be587-56a1-4d92-8a2e-788f8d6571fc",
   "metadata": {},
   "outputs": [],
   "source": [
    "test_codecs = ['pfor', 'simdbinarypacking', 'vbyte', 'simdpfor']"
   ]
  },
  {
   "cell_type": "code",
   "execution_count": null,
   "id": "57d9513f-f0aa-42c9-9c9e-8c4197519236",
   "metadata": {},
   "outputs": [],
   "source": [
    "test_tasa  = []\n",
    "test_ctime = []  # Tiempo de compresión\n",
    "test_dtime = []  # Tiempo de descompresión\n",
    "\n",
    "for mycodec in test_codecs:\n",
    "    tasa, ct, dt = comprimir_lista(test_list, mycodec)\n",
    "    test_tasa.append(tasa)\n",
    "    test_ctime.append(ct)\n",
    "    test_dtime.append(dt)"
   ]
  },
  {
   "cell_type": "code",
   "execution_count": null,
   "id": "a542b4f1-8331-48d8-a55c-3148b53f3d99",
   "metadata": {},
   "outputs": [],
   "source": [
    "markers = ['o--', '^--','*--','x--']\n",
    "for i, codec in enumerate(test_codecs):\n",
    "    plt.plot(test_tasa[i], test_dtime[i], markers[i], markersize=10, label=test_codecs[i])\n",
    "#\n",
    "plt.grid()\n",
    "plt.xlabel(\"Tasa de compresión\")\n",
    "plt.ylabel(\"Tiempo de descompresión\")\n",
    "#\n",
    "locs, labels = plt.xticks(test_tasa)\n",
    "plt.legend(loc=(1.04, 0.75))\n",
    "plt.show()"
   ]
  },
  {
   "cell_type": "code",
   "execution_count": null,
   "id": "e6d9b3a0-a21a-43e8-8cea-4a3d76f18347",
   "metadata": {},
   "outputs": [],
   "source": []
  },
  {
   "cell_type": "code",
   "execution_count": null,
   "id": "c018361a-a8d0-4464-8f5e-707df0ef9032",
   "metadata": {},
   "outputs": [],
   "source": []
  }
 ],
 "metadata": {
  "kernelspec": {
   "display_name": "Python 3 (ipykernel)",
   "language": "python",
   "name": "python3"
  },
  "language_info": {
   "codemirror_mode": {
    "name": "ipython",
    "version": 3
   },
   "file_extension": ".py",
   "mimetype": "text/x-python",
   "name": "python",
   "nbconvert_exporter": "python",
   "pygments_lexer": "ipython3",
   "version": "3.11.5"
  }
 },
 "nbformat": 4,
 "nbformat_minor": 5
}
