{
 "cells": [
  {
   "cell_type": "code",
   "execution_count": null,
   "id": "04a13ed0-4273-4275-9d9f-a7c4351526de",
   "metadata": {},
   "outputs": [],
   "source": [
    "import os\n",
    "import csv\n",
    "import pandas as pd\n",
    "import numpy as np\n",
    "#\n",
    "import collections\n",
    "from collections import defaultdict, OrderedDict\n",
    "import queue as Q\n",
    "#\n",
    "import matplotlib.pyplot as plt\n",
    "#"
   ]
  },
  {
   "cell_type": "code",
   "execution_count": null,
   "id": "5355dc16-7a74-408b-86e2-e25bf7a35091",
   "metadata": {},
   "outputs": [],
   "source": []
  },
  {
   "cell_type": "code",
   "execution_count": null,
   "id": "7ec8d7a3-688e-4205-8400-61d596a07cbc",
   "metadata": {},
   "outputs": [],
   "source": [
    "# Definimos algunas funciones"
   ]
  },
  {
   "cell_type": "code",
   "execution_count": null,
   "id": "0b6d312a-e2af-414d-b5b8-2f75b40f930b",
   "metadata": {},
   "outputs": [],
   "source": [
    "def compute_at_backend(q):\n",
    "    return query_costs[q]"
   ]
  },
  {
   "cell_type": "markdown",
   "id": "1417386d-da27-476b-9290-77cf7804d113",
   "metadata": {},
   "source": [
    "##### Las siguientes funciones de gestion de un cache (con una política) son demostrativas y no están impementadas con criterios de eficiencia."
   ]
  },
  {
   "cell_type": "code",
   "execution_count": null,
   "id": "8b254c37-1a57-4ab6-b807-22785b8296b3",
   "metadata": {},
   "outputs": [],
   "source": [
    "class LRUCache:\n",
    "    def __init__(self, size):\n",
    "        self.size = size\n",
    "        self.lru_cache = collections.OrderedDict()\n",
    "    def get(self, key):\n",
    "        try:\n",
    "            value = self.lru_cache.pop(key)\n",
    "            self.lru_cache[key] = value\n",
    "            return value\n",
    "        except KeyError:\n",
    "            return -1\n",
    "    def put(self, key, value):\n",
    "        try:\n",
    "            self.lru_cache.pop(key)\n",
    "        except KeyError:\n",
    "            if len(self.lru_cache) >= self.size:\n",
    "                self.lru_cache.popitem(last=False)\n",
    "            self.lru_cache[key] = value\n",
    "    def dump_cache(self):\n",
    "        print (self.lru_cache)"
   ]
  },
  {
   "cell_type": "code",
   "execution_count": null,
   "id": "d81d7125-b660-49d4-9643-77c410b79692",
   "metadata": {},
   "outputs": [],
   "source": [
    "class LFUCache:\n",
    "    def __init__(self, capacity):\n",
    "        self.remain = capacity\n",
    "        self.least_freq = 1\n",
    "        self.node_for_freq = collections.defaultdict(collections.OrderedDict)\n",
    "        self.node_for_key = dict()\n",
    "    def _update(self, key, value):\n",
    "        _, freq = self.node_for_key[key]\n",
    "        self.node_for_freq[freq].pop(key)\n",
    "        if len(self.node_for_freq[self.least_freq]) == 0:\n",
    "            self.least_freq += 1\n",
    "        self.node_for_freq[freq+1][key] = (value, freq+1)\n",
    "        self.node_for_key[key] = (value, freq+1)\n",
    "    def get(self, key):\n",
    "        if key not in self.node_for_key:\n",
    "            return -1\n",
    "        value = self.node_for_key[key][0]\n",
    "        self._update(key, value)\n",
    "        return value\n",
    "    def put(self, key, value):\n",
    "        if key in self.node_for_key:\n",
    "            self._update(key, value)\n",
    "        else:\n",
    "            self.node_for_key[key] = (value,1)\n",
    "            self.node_for_freq[1][key] = (value,1)\n",
    "            if self.remain == 0:\n",
    "                try:\n",
    "                    removed = self.node_for_freq[self.least_freq].popitem(last=False)\n",
    "                    self.node_for_key.pop(removed[0])\n",
    "                except:\n",
    "                    pass\n",
    "            else:\n",
    "                self.remain -= 1\n",
    "                self.least_freq = 1\n",
    "                #\n",
    "    def dump(self):\n",
    "        print (self.node_for_freq)"
   ]
  },
  {
   "cell_type": "code",
   "execution_count": null,
   "id": "531b30cf-af77-4fe0-8794-f56151438aea",
   "metadata": {},
   "outputs": [],
   "source": [
    "class FxCCache:\n",
    "    def __init__(self, capacity):\n",
    "        self.remain = capacity\n",
    "        self.item_fxcq  = Q.PriorityQueue()     # (fxc, key)\n",
    "        self.item_valid = dict()                # Para una key, guarda el fxc válido\n",
    "        self.item_freq  = dict()                # Frecuencia de key\n",
    "        self.item_cost  = dict()                # Costo de key\n",
    "    #\n",
    "    def dump_freq(self):\n",
    "        print (self.item_freq)\n",
    "    #\n",
    "    def dump_queue(self):\n",
    "        tmp = Q.PriorityQueue() # (fxc, key)\n",
    "        while not self.item_fxcq.empty():\n",
    "            it = self.item_fxcq.get()\n",
    "            print (it, end = ' '),\n",
    "            tmp.put(it)\n",
    "        print ()\n",
    "        self.item_fxcq = tmp\n",
    "    #\n",
    "    def _update(self, key):\n",
    "        self.item_freq[key] += 1\n",
    "        fxc = (self.item_freq[key]) * self.item_cost[key]\n",
    "        self.item_valid[key] = fxc\n",
    "        self.item_fxcq.put((fxc, key))\n",
    "        #print (fxc)\n",
    "        return fxc\n",
    "    \n",
    "    def get(self, key):\n",
    "        if key not in self.item_freq:\n",
    "            return -1\n",
    "        up = self._update(key)       # Tengo que freq+=1 y actualizar fx en la cola\n",
    "        return up\n",
    "\n",
    "    #\n",
    "    def put(self, key, cost):\n",
    "        if key in self.item_freq:\n",
    "            self._update(key) # Tengo que freq+=1 y actualizar fxc en la cola\n",
    "        else:\n",
    "            self.item_freq[key] = 1\n",
    "            self.item_cost[key] = cost\n",
    "            fxc = cost\n",
    "            #\n",
    "            if self.remain == 0:\n",
    "                while True:\n",
    "                    remove = self.item_fxcq.get()\n",
    "                    rkey = remove[1]\n",
    "                    valid_fxc = self.item_valid[rkey]\n",
    "                    if remove[0] == valid_fxc:\n",
    "                        try:\n",
    "                            del(self.item_freq[rkey])\n",
    "                            del(self.item_cost[rkey])\n",
    "                        except:\n",
    "                            pass\n",
    "                        break\n",
    "            else:\n",
    "                self.remain -= 1\n",
    "            # El item lo inserto despues de remover el menor\n",
    "            self.item_fxcq.put((fxc, key))\n",
    "            self.item_valid[key] = fxc"
   ]
  },
  {
   "cell_type": "markdown",
   "id": "1eb8bca3-70d2-45af-8828-63b7c34fb749",
   "metadata": {},
   "source": [
    "---\n",
    "### MAIN\n",
    "---"
   ]
  },
  {
   "cell_type": "code",
   "execution_count": null,
   "id": "9283e63d-ed22-47a1-948c-c726ac7762cf",
   "metadata": {},
   "outputs": [],
   "source": [
    "# Se carga en un diccionario el costo de los queries del log para simular el tiempo de cómputo en el \n",
    "# back end. Este diccionario es utilizado por la función 'compute_at_backend(q)'\n",
    "query_costs = {}\n",
    "with open(\"../data/AOL_360k_sample.unique.times\", \"r\") as fin:\n",
    "    for line in fin:\n",
    "        q, t = line.strip().split(\",\")\n",
    "        query_costs[q] = float(t)"
   ]
  },
  {
   "cell_type": "code",
   "execution_count": null,
   "id": "6bdbc88a-e56d-43a7-9c90-d0914ae9077a",
   "metadata": {},
   "outputs": [],
   "source": [
    "# Se lee el archivo de consultas (completo) y se generan dos listas con los queries y costos, \n",
    "# respectivamente. Éstas se van a usar para la simulación de la performance de las politicas \n",
    "# de cache y para calcular estadísticas básicas.queries_to_process = []\n",
    "queries_to_process = []\n",
    "times_to_process = []\n",
    "#\n",
    "with open(\"../data/AOL_360k_sample.txt\", \"r\") as fin:\n",
    "    for query in fin:\n",
    "        query = query.strip()\n",
    "        cost = compute_at_backend(query)\n",
    "        #\n",
    "        queries_to_process.append(query)\n",
    "        times_to_process.append(cost)\n",
    "    #\n",
    "total_queries = len(queries_to_process)"
   ]
  },
  {
   "cell_type": "code",
   "execution_count": null,
   "id": "77c48b4b-2e5d-42b7-93e9-90d8670af122",
   "metadata": {},
   "outputs": [],
   "source": [
    "# Graficamos los costos de los queries\n",
    "y_axis = sorted(times_to_process)\n",
    "x_axis = range(0, len(y_axis))\n",
    "#x_axis = [x / total_queries for x in x_axis]   # Eje-x como proporción del total\n",
    "#\n",
    "plt.scatter(x_axis, y_axis)\n",
    "plt.grid()\n",
    "plt.xlabel(\"Query #\")\n",
    "plt.ylabel(\"Cost (ms)\")\n",
    "plt.show()"
   ]
  },
  {
   "cell_type": "code",
   "execution_count": null,
   "id": "4524fbcc-6e25-4e78-85a1-0853dc4f2194",
   "metadata": {},
   "outputs": [],
   "source": [
    "# Estadísticas de costos del set de queries\n",
    "total_time = sum(times_to_process)\n",
    "mean_time  = np.mean(times_to_process)\n",
    "p90_time   = np.percentile(times_to_process, 90)\n",
    "p99_time   = np.percentile(times_to_process, 99)\n",
    "max_time   = max(times_to_process)"
   ]
  },
  {
   "cell_type": "code",
   "execution_count": null,
   "id": "676efe73-a53f-4329-acd4-38e4792d3c89",
   "metadata": {},
   "outputs": [],
   "source": [
    "print (f'Cantidad de queries: {total_queries}')\n",
    "print (f'Tiempo total       : {total_time:.2f} ms')\n",
    "print (f'Tiempo medio       : {mean_time:.2f} ms')\n",
    "print (f'Tiempo P90 (tail)  : {p90_time:.2f} ms')\n",
    "print (f'Tiempo P99 (tail)  : {p99_time:.2f} ms')\n",
    "print (f'Tiempo Máximo P100): {max_time:.2f} ms')"
   ]
  },
  {
   "cell_type": "markdown",
   "id": "ea355d69-791a-453a-94f5-73277b8946a5",
   "metadata": {},
   "source": [
    "**Tarea 1: Probar LRU con el ejemplo de las diapos**"
   ]
  },
  {
   "cell_type": "code",
   "execution_count": null,
   "id": "0bdd330e-d17c-4f2d-9ebc-f92e14f82335",
   "metadata": {},
   "outputs": [],
   "source": [
    "mycache = LRUCache(3)"
   ]
  },
  {
   "cell_type": "code",
   "execution_count": null,
   "id": "a1d0298a-3484-4817-ada0-20307ff0a496",
   "metadata": {},
   "outputs": [],
   "source": [
    "mycache.put(1, \"A\")\n",
    "mycache.put(2, \"B\")\n",
    "mycache.put(3, \"C\")\n",
    "mycache.dump_cache()"
   ]
  },
  {
   "cell_type": "code",
   "execution_count": null,
   "id": "e6252fb1-3038-4d39-8d99-5794504addf8",
   "metadata": {},
   "outputs": [],
   "source": [
    "mycache.get(2)\n",
    "mycache.dump_cache()"
   ]
  },
  {
   "cell_type": "code",
   "execution_count": null,
   "id": "47b5670b-4325-4703-a78b-48ef92080bb3",
   "metadata": {},
   "outputs": [],
   "source": [
    "mycache.get(4)"
   ]
  },
  {
   "cell_type": "code",
   "execution_count": null,
   "id": "28648c7b-005c-48fb-97ab-46840f3a7f06",
   "metadata": {},
   "outputs": [],
   "source": [
    "mycache.put(4, \"D\")\n",
    "mycache.dump_cache()"
   ]
  },
  {
   "cell_type": "code",
   "execution_count": null,
   "id": "024c7b22-2cf0-4d71-9cd7-06629742bb13",
   "metadata": {},
   "outputs": [],
   "source": [
    "mycache.get(3)\n",
    "mycache.dump_cache()"
   ]
  },
  {
   "cell_type": "code",
   "execution_count": null,
   "id": "51ba7625-2c6e-4a14-98c0-fbc647c190df",
   "metadata": {},
   "outputs": [],
   "source": [
    "mycache.put(1, \"A\")\n",
    "mycache.dump_cache()"
   ]
  },
  {
   "cell_type": "code",
   "execution_count": null,
   "id": "a409216a-2dd7-4bb5-a805-4f6f72e8e424",
   "metadata": {},
   "outputs": [],
   "source": [
    "mycache.get(3)\n",
    "mycache.dump_cache()"
   ]
  },
  {
   "cell_type": "markdown",
   "id": "c4100c1a-bcc1-49e1-a20e-3345dfc329e2",
   "metadata": {},
   "source": [
    "#### Hit Rate"
   ]
  },
  {
   "cell_type": "markdown",
   "id": "2ec8b72d-2727-4dfa-ad4a-58c8ba2d779b",
   "metadata": {},
   "source": [
    "**Tarea 2: Evaluar Hit rate para diferentes tamaños de cache**"
   ]
  },
  {
   "cell_type": "code",
   "execution_count": null,
   "id": "3e8bc1bb-a3e3-4cb0-952c-0b6b7b714afc",
   "metadata": {},
   "outputs": [],
   "source": [
    "cache_sizes = [1000, 5000, 10000, 25000, 50000, 75000, 100000]"
   ]
  },
  {
   "cell_type": "code",
   "execution_count": null,
   "id": "44e54b30-88f4-4985-ade0-e386f2d1d153",
   "metadata": {},
   "outputs": [],
   "source": [
    "# Itero sobre los tamaños de cache a evaluar\n",
    "LRU_hit_ratios = []\n",
    "for csize in cache_sizes:\n",
    "    mycache = LRUCache(csize)\n",
    "    #\n",
    "    hits   = 0\n",
    "    misses = 0\n",
    "    for query in queries_to_process:\n",
    "        if mycache.get(query) != -1:\n",
    "            hits+=1\n",
    "        else:\n",
    "            mycache.put(query, \"dummy\")\n",
    "            misses+=1\n",
    "    hit_ratio = hits / (hits+misses)\n",
    "    LRU_hit_ratios.append(hit_ratio)\n",
    "    print (f'Cache size {csize}, hits: {hits}, misses: {misses}, Hit ratio: {hit_ratio:.3f}')"
   ]
  },
  {
   "cell_type": "code",
   "execution_count": null,
   "id": "4bd87bf7-176d-46bc-9570-173aa85b5024",
   "metadata": {},
   "outputs": [],
   "source": [
    "# Itero sobre los tamaños de cache a evaluar\n",
    "LFU_hit_ratios = []\n",
    "for csize in cache_sizes:\n",
    "    mycache = LFUCache(csize)\n",
    "    #\n",
    "    hits   = 0\n",
    "    misses = 0\n",
    "    for query in queries_to_process:\n",
    "        if mycache.get(query) != -1:\n",
    "            hits+=1\n",
    "        else:\n",
    "            mycache.put(query, \"dummy\")\n",
    "            misses+=1\n",
    "    hit_ratio = hits / (hits+misses)\n",
    "    LFU_hit_ratios.append(hit_ratio)\n",
    "    print (f'Cache size {csize}, hits: {hits}, misses: {misses}, Hit ratio: {hit_ratio:.3f}')"
   ]
  },
  {
   "cell_type": "code",
   "execution_count": null,
   "id": "995c3a95-95d8-4fe5-a551-d0ea21481614",
   "metadata": {},
   "outputs": [],
   "source": [
    "# Itero sobre los tamaños de cache a evaluar\n",
    "FxC_hit_ratios = []\n",
    "for csize in cache_sizes:\n",
    "    mycache = FxCCache(csize)\n",
    "    #\n",
    "    hits   = 0\n",
    "    misses = 0\n",
    "    for query in queries_to_process:\n",
    "        if mycache.get(query) != -1:\n",
    "            hits+=1\n",
    "        else:\n",
    "            mycache.put(query, compute_at_backend(query))\n",
    "            misses+=1\n",
    "    hit_ratio = hits / (hits+misses)\n",
    "    FxC_hit_ratios.append(hit_ratio)\n",
    "    print (f'Cache size {csize}, hits: {hits}, misses: {misses}, Hit ratio: {hit_ratio:.3f}')"
   ]
  },
  {
   "cell_type": "code",
   "execution_count": null,
   "id": "082e193a-e402-428e-8462-54ea335388d7",
   "metadata": {},
   "outputs": [],
   "source": [
    "# Plot"
   ]
  },
  {
   "cell_type": "code",
   "execution_count": null,
   "id": "e2a0da4c-f12e-4ac3-8abe-e3d975e40b60",
   "metadata": {},
   "outputs": [],
   "source": [
    "plt.plot(cache_sizes, LRU_hit_ratios, 'o--', markersize=6, label=\"LRU\")\n",
    "plt.plot(cache_sizes, LFU_hit_ratios, 'x--', markersize=6, label=\"LFU\")\n",
    "plt.plot(cache_sizes, FxC_hit_ratios, '^--', markersize=6, label=\"FxC\")\n",
    "#\n",
    "plt.grid()\n",
    "plt.xlabel(\"Cache size\")\n",
    "plt.ylabel(\"Hit rate\")\n",
    "#\n",
    "locs, labels = plt.xticks(cache_sizes, rotation=90)\n",
    "plt.legend(loc=4)\n",
    "plt.show()"
   ]
  },
  {
   "cell_type": "markdown",
   "id": "42cc313a-14ec-43c1-9943-3e20a8ba6648",
   "metadata": {},
   "source": [
    "**Tarea 3: Evaluar costo total para diferentes tamaños de cache**"
   ]
  },
  {
   "cell_type": "code",
   "execution_count": null,
   "id": "63b76ede-6858-4931-b923-b7852b91a71f",
   "metadata": {},
   "outputs": [],
   "source": [
    "# Itero sobre los tamaños de cache a evaluar\n",
    "LRU_total_costs = []\n",
    "for csize in cache_sizes:\n",
    "    mycache = LRUCache(csize)\n",
    "    #\n",
    "    hits   = 0\n",
    "    misses = 0\n",
    "    #\n",
    "    cost   = 0\n",
    "    total_cost   = 0\n",
    "    #\n",
    "    for query in queries_to_process:\n",
    "        if mycache.get(query) != -1:\n",
    "            cost = 0\n",
    "            hits+=1\n",
    "        else:\n",
    "            cost = compute_at_backend(query)\n",
    "            mycache.put(query, \"dummy\")\n",
    "            misses+=1\n",
    "        total_cost += cost    \n",
    "    LRU_total_costs.append(total_cost)\n",
    "    print (f'Cache size {csize}, hits: {hits}, misses: {misses}, Total cost: {total_cost:.3f}')"
   ]
  },
  {
   "cell_type": "code",
   "execution_count": null,
   "id": "d199f3e0-43e9-40db-ad23-9522f36dc0be",
   "metadata": {},
   "outputs": [],
   "source": [
    "# Itero sobre los tamaños de cache a evaluar\n",
    "LFU_total_costs = []\n",
    "for csize in cache_sizes:\n",
    "    mycache = LFUCache(csize)\n",
    "    #\n",
    "    hits   = 0\n",
    "    misses = 0\n",
    "    #\n",
    "    cost   = 0\n",
    "    total_cost   = 0\n",
    "    #\n",
    "    for query in queries_to_process:\n",
    "        if mycache.get(query) != -1:\n",
    "            cost = 0\n",
    "            hits+=1\n",
    "        else:\n",
    "            cost = compute_at_backend(query)\n",
    "            mycache.put(query, \"dummy\")\n",
    "            misses+=1\n",
    "        total_cost += cost    \n",
    "    LFU_total_costs.append(total_cost)\n",
    "    print (f'Cache size {csize}, hits: {hits}, misses: {misses}, Total cost: {total_cost:.3f}')"
   ]
  },
  {
   "cell_type": "code",
   "execution_count": null,
   "id": "fc937afa-6521-4ecb-8ed2-b3fe6d16cf8f",
   "metadata": {},
   "outputs": [],
   "source": [
    "# Itero sobre los tamaños de cache a evaluar\n",
    "FxC_total_costs = []\n",
    "for csize in cache_sizes:\n",
    "    mycache = FxCCache(csize)\n",
    "    #\n",
    "    hits   = 0\n",
    "    misses = 0\n",
    "    #\n",
    "    cost   = 0\n",
    "    total_cost   = 0\n",
    "    #\n",
    "    for query in queries_to_process:\n",
    "        if mycache.get(query) != -1:\n",
    "            cost = 0\n",
    "            hits+=1\n",
    "        else:\n",
    "            cost = compute_at_backend(query)\n",
    "            mycache.put(query, cost)\n",
    "            misses+=1\n",
    "        total_cost += cost    \n",
    "    FxC_total_costs.append(total_cost)\n",
    "    print (f'Cache size {csize}, hits: {hits}, misses: {misses}, Total cost: {total_cost:.3f}')"
   ]
  },
  {
   "cell_type": "code",
   "execution_count": null,
   "id": "4d96fd41-6779-4078-94f5-c7a80116e7f7",
   "metadata": {},
   "outputs": [],
   "source": [
    "plt.plot(cache_sizes, LRU_total_costs, 'o--', markersize=6, label=\"LRU\")\n",
    "plt.plot(cache_sizes, LFU_total_costs, 'x--', markersize=6, label=\"LFU\")\n",
    "plt.plot(cache_sizes, FxC_total_costs, '^--', markersize=6, label=\"FxC\")\n",
    "#\n",
    "plt.grid()\n",
    "plt.xlabel(\"Cache size\")\n",
    "plt.ylabel(\"Total cost\")\n",
    "#\n",
    "locs, labels = plt.xticks(cache_sizes, rotation=90)\n",
    "plt.legend(loc=1)\n",
    "plt.show()"
   ]
  },
  {
   "cell_type": "markdown",
   "id": "1f92a7dc-9f72-4857-b880-e28c249cce44",
   "metadata": {},
   "source": [
    "**Tarea 4: Calcular Ahorro entre FxC y LFU**"
   ]
  },
  {
   "cell_type": "code",
   "execution_count": null,
   "id": "90995139-8d88-4ef3-8e74-ea53bb92a80b",
   "metadata": {},
   "outputs": [],
   "source": [
    "# ToDo"
   ]
  },
  {
   "cell_type": "markdown",
   "id": "fd65b966-e95e-4003-810a-ecb02b392bc2",
   "metadata": {},
   "source": [
    "**Evaluo LRU con WarmUp**"
   ]
  },
  {
   "cell_type": "code",
   "execution_count": null,
   "id": "f3297c03-7b1c-472a-8776-1345c9f58737",
   "metadata": {},
   "outputs": [],
   "source": [
    "# Itero sobre los tamaños de cache a evaluar\n",
    "LRU_wu_hit_ratios = []\n",
    "for csize in cache_sizes:\n",
    "    mycache = LRUCache(csize)\n",
    "    #\n",
    "    warmup_queries = csize   \n",
    "    #\n",
    "    hits   = 0\n",
    "    misses = 0\n",
    "    for i, query in enumerate(queries_to_process):\n",
    "        if mycache.get(query) != -1:\n",
    "            if i > warmup_queries:\n",
    "                hits+=1\n",
    "        else:\n",
    "            mycache.put(query, \"dummy\")\n",
    "            if i > warmup_queries:\n",
    "                misses+=1\n",
    "    hit_ratio = hits / (hits+misses)\n",
    "    LRU_wu_hit_ratios.append(hit_ratio)\n",
    "    print (f'Cache size {csize}, hits: {hits}, misses: {misses}, Hit ratio: {hit_ratio:.3f}')"
   ]
  },
  {
   "cell_type": "code",
   "execution_count": null,
   "id": "c30144cd-a589-474d-8172-b5c7a23a8e4c",
   "metadata": {},
   "outputs": [],
   "source": [
    "plt.plot(cache_sizes, LRU_hit_ratios, 'o--', markersize=6, label=\"LRU\")\n",
    "plt.plot(cache_sizes, LRU_wu_hit_ratios, 'x--', markersize=6, label=\"LRU w/WarmUp\")\n",
    "#\n",
    "plt.grid()\n",
    "plt.xlabel(\"Cache size\")\n",
    "plt.ylabel(\"Hit rate\")\n",
    "#\n",
    "locs, labels = plt.xticks(cache_sizes, rotation=90)\n",
    "plt.legend(loc=4)\n",
    "plt.show()"
   ]
  },
  {
   "cell_type": "markdown",
   "id": "42d80e12-3860-42c2-b1b8-8eb7b254626b",
   "metadata": {},
   "source": [
    "**Tarea 5: Evaluar LRU con una política de admisión basada en singletons**"
   ]
  },
  {
   "cell_type": "code",
   "execution_count": null,
   "id": "6885a6e7-92ba-4865-a116-bad720843d86",
   "metadata": {},
   "outputs": [],
   "source": [
    "singletons = {}\n",
    "with open(\"../data/AOL_360k_sample.singletons\", \"r\") as fin:\n",
    "    for sing in fin:\n",
    "        sing = sing.strip()\n",
    "        singletons[sing] = 1\n",
    "    #\n",
    "print (f'Se leyeron {len(singletons)} singletons')"
   ]
  },
  {
   "cell_type": "code",
   "execution_count": null,
   "id": "ea3c556e-d104-4fde-a676-6ed13b03a6af",
   "metadata": {},
   "outputs": [],
   "source": [
    "# Itero sobre los tamaños de cache a evaluar\n",
    "LRU_nosing_hit_ratios = []\n",
    "for csize in cache_sizes:\n",
    "    mycache = LRUCache(csize)\n",
    "    #\n",
    "    hits   = 0\n",
    "    misses = 0\n",
    "    for query in queries_to_process:\n",
    "        if mycache.get(query) != -1:\n",
    "            hits+=1\n",
    "        else:\n",
    "            if query not in singletons:\n",
    "                mycache.put(query, \"dummy\")\n",
    "            misses+=1\n",
    "    hit_ratio = hits / (hits+misses)\n",
    "    LRU_nosing_hit_ratios.append(hit_ratio)\n",
    "    print (f'Cache size {csize}, hits: {hits}, misses: {misses}, Hit ratio: {hit_ratio:.3f}')"
   ]
  },
  {
   "cell_type": "code",
   "execution_count": null,
   "id": "2603a379-1118-4ab4-8a8d-8c873bcb1ef5",
   "metadata": {},
   "outputs": [],
   "source": [
    "plt.plot(cache_sizes, LRU_hit_ratios, 'o--', markersize=6, label=\"LRU\")\n",
    "plt.plot(cache_sizes, LRU_nosing_hit_ratios, 'x--', markersize=6, label=\"LRU nosing\")\n",
    "#\n",
    "plt.grid()\n",
    "plt.xlabel(\"Cache size\")\n",
    "plt.ylabel(\"Hit rate\")\n",
    "#\n",
    "locs, labels = plt.xticks(cache_sizes, rotation=90)\n",
    "plt.legend(loc=4)\n",
    "plt.show()"
   ]
  },
  {
   "cell_type": "markdown",
   "id": "025f942b-5c65-4ee0-b9b8-0d03124e5b35",
   "metadata": {},
   "source": [
    "**Pregunta: A qué se debe el comportamiento de 'LRU nosing' en la gráfica anterior?**"
   ]
  },
  {
   "cell_type": "markdown",
   "id": "16948a89-84bc-40d5-bfbe-14e896afd936",
   "metadata": {},
   "source": [
    "**Tarea 5: Evaluar LRU con WarmUp y una política de admisión basada en singletons**"
   ]
  },
  {
   "cell_type": "code",
   "execution_count": null,
   "id": "e5379828-62ee-4c55-940e-fa08783115bc",
   "metadata": {},
   "outputs": [],
   "source": [
    "# ToDo"
   ]
  }
 ],
 "metadata": {
  "kernelspec": {
   "display_name": "Python 3 (ipykernel)",
   "language": "python",
   "name": "python3"
  },
  "language_info": {
   "codemirror_mode": {
    "name": "ipython",
    "version": 3
   },
   "file_extension": ".py",
   "mimetype": "text/x-python",
   "name": "python",
   "nbconvert_exporter": "python",
   "pygments_lexer": "ipython3",
   "version": "3.11.4"
  }
 },
 "nbformat": 4,
 "nbformat_minor": 5
}
