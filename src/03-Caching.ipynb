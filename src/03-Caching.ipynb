{
 "cells": [
  {
   "cell_type": "code",
   "execution_count": 134,
   "id": "04a13ed0-4273-4275-9d9f-a7c4351526de",
   "metadata": {},
   "outputs": [],
   "source": [
    "import os\n",
    "import csv\n",
    "#import time\n",
    "import pandas as pd\n",
    "import numpy as np\n",
    "#import pyterrier as pt\n",
    "import matplotlib.pyplot as plt"
   ]
  },
  {
   "cell_type": "code",
   "execution_count": 135,
   "id": "5355dc16-7a74-408b-86e2-e25bf7a35091",
   "metadata": {},
   "outputs": [],
   "source": [
    "import collections\n",
    "from collections import defaultdict, OrderedDict\n",
    "import queue as Q"
   ]
  },
  {
   "cell_type": "code",
   "execution_count": 136,
   "id": "7ec8d7a3-688e-4205-8400-61d596a07cbc",
   "metadata": {},
   "outputs": [],
   "source": [
    "# Definimos algunas funciones"
   ]
  },
  {
   "cell_type": "code",
   "execution_count": 137,
   "id": "0b6d312a-e2af-414d-b5b8-2f75b40f930b",
   "metadata": {},
   "outputs": [],
   "source": [
    "def compute_at_backend(q):\n",
    "    return query_costs[q]"
   ]
  },
  {
   "cell_type": "code",
   "execution_count": 153,
   "id": "8b254c37-1a57-4ab6-b807-22785b8296b3",
   "metadata": {},
   "outputs": [],
   "source": [
    "class LRUCache:\n",
    "    def __init__(self, size):\n",
    "        self.size = size\n",
    "        self.lru_cache = collections.OrderedDict()\n",
    "    def get(self, key):\n",
    "        try:\n",
    "            value = self.lru_cache.pop(key)\n",
    "            self.lru_cache[key] = value\n",
    "            return value\n",
    "        except KeyError:\n",
    "            return -1\n",
    "    def put(self, key, value):\n",
    "        try:\n",
    "            self.lru_cache.pop(key)\n",
    "        except KeyError:\n",
    "            if len(self.lru_cache) >= self.size:\n",
    "                self.lru_cache.popitem(last=False)\n",
    "            self.lru_cache[key] = value\n",
    "    def dump_cache(self):\n",
    "        print (self.lru_cache)"
   ]
  },
  {
   "cell_type": "code",
   "execution_count": 154,
   "id": "d81d7125-b660-49d4-9643-77c410b79692",
   "metadata": {},
   "outputs": [],
   "source": [
    "class LFUCache:\n",
    "    def __init__(self, capacity):\n",
    "        self.remain = capacity\n",
    "        self.least_freq = 1\n",
    "        self.node_for_freq = collections.defaultdict(collections.OrderedDict)\n",
    "        self.node_for_key = dict()\n",
    "    def _update(self, key, value):\n",
    "        _, freq = self.node_for_key[key]\n",
    "        self.node_for_freq[freq].pop(key)\n",
    "        if len(self.node_for_freq[self.least_freq]) == 0:\n",
    "            self.least_freq += 1\n",
    "        self.node_for_freq[freq+1][key] = (value, freq+1)\n",
    "        self.node_for_key[key] = (value, freq+1)\n",
    "    def get(self, key):\n",
    "        if key not in self.node_for_key:\n",
    "            return -1\n",
    "        value = self.node_for_key[key][0]\n",
    "        self._update(key, value)\n",
    "        return value\n",
    "    def put(self, key, value):\n",
    "        if key in self.node_for_key:\n",
    "            self._update(key, value)\n",
    "        else:\n",
    "            self.node_for_key[key] = (value,1)\n",
    "            self.node_for_freq[1][key] = (value,1)\n",
    "            if self.remain == 0:\n",
    "                removed = self.node_for_freq[self.least_freq].popitem(last=False)\n",
    "                self.node_for_key.pop(removed[0])\n",
    "            else:\n",
    "                self.remain -= 1\n",
    "                self.least_freq = 1\n",
    "                #\n",
    "    def dump(self):\n",
    "        print (self.node_for_freq)"
   ]
  },
  {
   "cell_type": "code",
   "execution_count": 203,
   "id": "531b30cf-af77-4fe0-8794-f56151438aea",
   "metadata": {},
   "outputs": [],
   "source": [
    "class FxCCache:\n",
    "    def __init__(self, capacity):\n",
    "        self.remain = capacity\n",
    "        self.item_fxcq  = Q.PriorityQueue()     # (fxc, key)\n",
    "        self.item_valid = dict()                # Para una key, guarda el fxc válido\n",
    "        self.item_freq  = dict()                # Frecuencia de key\n",
    "        self.item_cost  = dict()                # Costo de key\n",
    "    #\n",
    "    def dump_freq(self):\n",
    "        print (self.item_freq)\n",
    "    #\n",
    "    def dump_queue(self):\n",
    "        tmp = Q.PriorityQueue() # (fxc, key)\n",
    "        while not self.item_fxcq.empty():\n",
    "            it = self.item_fxcq.get()\n",
    "            print (it, end = ' '),\n",
    "            tmp.put(it)\n",
    "        print ()\n",
    "        self.item_fxcq = tmp\n",
    "    #\n",
    "    def _update(self, key):\n",
    "        self.item_freq[key] += 1\n",
    "        fxc = (self.item_freq[key]) * self.item_cost[key]\n",
    "        self.item_valid[key] = fxc\n",
    "        self.item_fxcq.put((fxc, key))\n",
    "        #print (fxc)\n",
    "        return fxc\n",
    "    \n",
    "    def get(self, key):\n",
    "        if key not in self.item_freq:\n",
    "            return -1\n",
    "        up = self._update(key)       # Tengo que freq+=1 y actualizar fx en la cola\n",
    "        return up\n",
    "\n",
    "    #\n",
    "    def put(self, key, cost):\n",
    "        if key in self.item_freq:\n",
    "            self._update(key) # Tengo que freq+=1 y actualizar fxc en la cola\n",
    "        else:\n",
    "            self.item_freq[key] = 1\n",
    "            self.item_cost[key] = cost\n",
    "            fxc = cost\n",
    "            #\n",
    "            if self.remain == 0:\n",
    "                while True:\n",
    "                    remove = self.item_fxcq.get()\n",
    "                    rkey = remove[1]\n",
    "                    valid_fxc = self.item_valid[rkey]\n",
    "                    if remove[0] == valid_fxc:\n",
    "                        del(self.item_freq[rkey])\n",
    "                        del(self.item_cost[rkey])\n",
    "                        break\n",
    "            else:\n",
    "                self.remain -= 1\n",
    "            # El item lo inserto despues de remover el menor\n",
    "            self.item_fxcq.put((fxc, key))\n",
    "            self.item_valid[key] = fxc"
   ]
  },
  {
   "cell_type": "code",
   "execution_count": null,
   "id": "2c9446e5-90d5-40d9-903f-7fc4f8252abb",
   "metadata": {},
   "outputs": [],
   "source": []
  },
  {
   "cell_type": "code",
   "execution_count": null,
   "id": "0603c195-e2b7-40dc-b18d-66c801c8887e",
   "metadata": {},
   "outputs": [],
   "source": []
  },
  {
   "cell_type": "code",
   "execution_count": null,
   "id": "cc2e65de-1c27-42ba-b87b-79e5ae80080a",
   "metadata": {},
   "outputs": [],
   "source": []
  },
  {
   "cell_type": "code",
   "execution_count": 8,
   "id": "9283e63d-ed22-47a1-948c-c726ac7762cf",
   "metadata": {},
   "outputs": [],
   "source": [
    "# Se carga en un diccionario el costo de los queries del log para simular el tiempo de cómputo en el back end.\n",
    "query_costs = {}\n",
    "with open(\"../data/AOL_360k_sample.unique.times\", \"r\") as fin:\n",
    "    for line in fin:\n",
    "        q, t = line.strip().split(\",\")\n",
    "        query_costs[q] = float(t)"
   ]
  },
  {
   "cell_type": "code",
   "execution_count": 9,
   "id": "74081e98-30be-4572-9ff1-258d69317118",
   "metadata": {},
   "outputs": [],
   "source": [
    "#\n",
    "#\n"
   ]
  },
  {
   "cell_type": "code",
   "execution_count": 10,
   "id": "6bdbc88a-e56d-43a7-9c90-d0914ae9077a",
   "metadata": {},
   "outputs": [],
   "source": [
    "queries_to_process = []\n",
    "times_to_process = []\n",
    "#\n",
    "with open(\"../data/AOL_360k_sample.txt\", \"r\") as fin:\n",
    "    for query in fin:\n",
    "        query = query.strip()\n",
    "        cost = compute_at_backend(query)\n",
    "        #\n",
    "        queries_to_process.append(query)\n",
    "        times_to_process.append(cost)\n",
    "    #\n",
    "total_queries = len(queries_to_process)"
   ]
  },
  {
   "cell_type": "code",
   "execution_count": 11,
   "id": "77c48b4b-2e5d-42b7-93e9-90d8670af122",
   "metadata": {},
   "outputs": [
    {
     "data": {
      "image/png": "[encoded data removed]",
      "text/plain": [
       "<Figure size 640x480 with 1 Axes>"
      ]
     },
     "metadata": {},
     "output_type": "display_data"
    }
   ],
   "source": [
    "# Graficamos los costos de los queries\n",
    "y_axis = sorted(times_to_process)\n",
    "x_axis = range(0, len(y_axis))\n",
    "#\n",
    "plt.scatter(x_axis, y_axis)\n",
    "plt.grid()\n",
    "plt.xlabel(\"Query #\")\n",
    "plt.ylabel(\"Cost (ms)\")\n",
    "\n",
    "plt.show()"
   ]
  },
  {
   "cell_type": "code",
   "execution_count": null,
   "id": "65a50732-c3fc-4d24-be3b-ed5bc95f29e3",
   "metadata": {},
   "outputs": [],
   "source": []
  },
  {
   "cell_type": "code",
   "execution_count": 12,
   "id": "4524fbcc-6e25-4e78-85a1-0853dc4f2194",
   "metadata": {},
   "outputs": [
    {
     "name": "stdout",
     "output_type": "stream",
     "text": [
      "Cantidad de queries: 359168\n",
      "Tiempo total       : 18025987.30 ms\n",
      "Tiempo medio       : 50.19 ms\n",
      "Tiempo P90 (tail)  : 110.78 ms\n",
      "Tiempo P99 (tail)  : 741.30 ms\n",
      "Tiempo Máximo P100): 3317.14 ms\n"
     ]
    }
   ],
   "source": [
    "#\n",
    "total_time = sum(times_to_process)\n",
    "mean_time  = np.mean(times_to_process)\n",
    "p90_time   = np.percentile(times_to_process, 90)\n",
    "p99_time   = np.percentile(times_to_process, 99)\n",
    "max_time   = max(times_to_process)\n",
    "#\n",
    "print (f'Cantidad de queries: {total_queries}')\n",
    "print (f'Tiempo total       : {total_time:.2f} ms')\n",
    "print (f'Tiempo medio       : {mean_time:.2f} ms')\n",
    "print (f'Tiempo P90 (tail)  : {p90_time:.2f} ms')\n",
    "print (f'Tiempo P99 (tail)  : {p99_time:.2f} ms')\n",
    "print (f'Tiempo Máximo P100): {max_time:.2f} ms')"
   ]
  },
  {
   "cell_type": "code",
   "execution_count": null,
   "id": "676efe73-a53f-4329-acd4-38e4792d3c89",
   "metadata": {},
   "outputs": [],
   "source": []
  },
  {
   "cell_type": "code",
   "execution_count": null,
   "id": "7c951e3f-7cd5-4296-bce7-6c6722a4aa77",
   "metadata": {},
   "outputs": [],
   "source": [
    "\n",
    "\n"
   ]
  },
  {
   "cell_type": "markdown",
   "id": "ea355d69-791a-453a-94f5-73277b8946a5",
   "metadata": {},
   "source": [
    "**Tarea 1: Probar LRU con el ejemplo de las diapos**"
   ]
  },
  {
   "cell_type": "code",
   "execution_count": 43,
   "id": "0bdd330e-d17c-4f2d-9ebc-f92e14f82335",
   "metadata": {},
   "outputs": [],
   "source": [
    "mycache = LRUCache(3)"
   ]
  },
  {
   "cell_type": "code",
   "execution_count": 44,
   "id": "a1d0298a-3484-4817-ada0-20307ff0a496",
   "metadata": {},
   "outputs": [
    {
     "name": "stdout",
     "output_type": "stream",
     "text": [
      "OrderedDict([(1, 'A'), (2, 'B'), (3, 'C')])\n"
     ]
    }
   ],
   "source": [
    "mycache.put(1, \"A\")\n",
    "mycache.put(2, \"B\")\n",
    "mycache.put(3, \"C\")\n",
    "mycache.dump_cache()"
   ]
  },
  {
   "cell_type": "code",
   "execution_count": 45,
   "id": "e6252fb1-3038-4d39-8d99-5794504addf8",
   "metadata": {},
   "outputs": [
    {
     "name": "stdout",
     "output_type": "stream",
     "text": [
      "OrderedDict([(1, 'A'), (3, 'C'), (2, 'B')])\n"
     ]
    }
   ],
   "source": [
    "mycache.get(2)\n",
    "mycache.dump_cache()"
   ]
  },
  {
   "cell_type": "code",
   "execution_count": 46,
   "id": "47b5670b-4325-4703-a78b-48ef92080bb3",
   "metadata": {},
   "outputs": [
    {
     "data": {
      "text/plain": [
       "-1"
      ]
     },
     "execution_count": 46,
     "metadata": {},
     "output_type": "execute_result"
    }
   ],
   "source": [
    "mycache.get(4)"
   ]
  },
  {
   "cell_type": "code",
   "execution_count": 47,
   "id": "28648c7b-005c-48fb-97ab-46840f3a7f06",
   "metadata": {},
   "outputs": [
    {
     "name": "stdout",
     "output_type": "stream",
     "text": [
      "OrderedDict([(3, 'C'), (2, 'B'), (4, 'D')])\n"
     ]
    }
   ],
   "source": [
    "mycache.put(4, \"D\")\n",
    "mycache.dump_cache()"
   ]
  },
  {
   "cell_type": "code",
   "execution_count": 48,
   "id": "024c7b22-2cf0-4d71-9cd7-06629742bb13",
   "metadata": {},
   "outputs": [
    {
     "name": "stdout",
     "output_type": "stream",
     "text": [
      "OrderedDict([(2, 'B'), (4, 'D'), (3, 'C')])\n"
     ]
    }
   ],
   "source": [
    "mycache.get(3)\n",
    "mycache.dump_cache()"
   ]
  },
  {
   "cell_type": "code",
   "execution_count": 49,
   "id": "51ba7625-2c6e-4a14-98c0-fbc647c190df",
   "metadata": {},
   "outputs": [
    {
     "name": "stdout",
     "output_type": "stream",
     "text": [
      "OrderedDict([(4, 'D'), (3, 'C'), (1, 'A')])\n"
     ]
    }
   ],
   "source": [
    "mycache.put(1, \"A\")\n",
    "mycache.dump_cache()"
   ]
  },
  {
   "cell_type": "code",
   "execution_count": 50,
   "id": "a409216a-2dd7-4bb5-a805-4f6f72e8e424",
   "metadata": {},
   "outputs": [
    {
     "name": "stdout",
     "output_type": "stream",
     "text": [
      "OrderedDict([(4, 'D'), (1, 'A'), (3, 'C')])\n"
     ]
    }
   ],
   "source": [
    "mycache.get(3)\n",
    "mycache.dump_cache()"
   ]
  },
  {
   "cell_type": "code",
   "execution_count": null,
   "id": "6ff153ce-8ba6-45d1-97b1-4bffb28c873d",
   "metadata": {},
   "outputs": [],
   "source": []
  },
  {
   "cell_type": "code",
   "execution_count": null,
   "id": "e8f73a07-9865-4671-b6a0-adc82d8ab1a0",
   "metadata": {},
   "outputs": [],
   "source": []
  },
  {
   "cell_type": "code",
   "execution_count": null,
   "id": "8e745bb5-3c3c-4754-900b-f6082b5ff4ac",
   "metadata": {},
   "outputs": [],
   "source": []
  },
  {
   "cell_type": "code",
   "execution_count": 155,
   "id": "3e8bc1bb-a3e3-4cb0-952c-0b6b7b714afc",
   "metadata": {},
   "outputs": [
    {
     "name": "stdout",
     "output_type": "stream",
     "text": [
      "defaultdict(<class 'collections.OrderedDict'>, {1: OrderedDict(), 2: OrderedDict([(2, ('B', 2)), (5, ('E', 2)), (6, ('F', 2))])})\n"
     ]
    }
   ],
   "source": [
    "lfu = LFUCache(3)\n",
    "lfu.put(1, \"A\")\n",
    "lfu.put(2, \"B\")\n",
    "lfu.put(2, \"B\")\n",
    "lfu.put(3, \"C\")\n",
    "lfu.put(4, \"D\")\n",
    "lfu.put(5, \"E\")\n",
    "lfu.put(5, \"E\")\n",
    "lfu.put(6, \"F\")\n",
    "lfu.put(6, \"F\")\n",
    "lfu.dump()#"
   ]
  },
  {
   "cell_type": "code",
   "execution_count": 159,
   "id": "44e54b30-88f4-4985-ade0-e386f2d1d153",
   "metadata": {},
   "outputs": [
    {
     "data": {
      "text/plain": [
       "'F'"
      ]
     },
     "execution_count": 159,
     "metadata": {},
     "output_type": "execute_result"
    }
   ],
   "source": [
    "lfu.get(6)"
   ]
  },
  {
   "cell_type": "code",
   "execution_count": null,
   "id": "4bd87bf7-176d-46bc-9570-173aa85b5024",
   "metadata": {},
   "outputs": [],
   "source": []
  },
  {
   "cell_type": "code",
   "execution_count": 212,
   "id": "63b76ede-6858-4931-b923-b7852b91a71f",
   "metadata": {},
   "outputs": [],
   "source": [
    "fxc = FxCCache(3)"
   ]
  },
  {
   "cell_type": "code",
   "execution_count": 213,
   "id": "d199f3e0-43e9-40db-ad23-9522f36dc0be",
   "metadata": {},
   "outputs": [
    {
     "name": "stdout",
     "output_type": "stream",
     "text": [
      "{1: 1}\n",
      "{1: 1, 2: 1}\n",
      "{1: 2, 2: 1}\n",
      "{1: 3, 2: 1}\n",
      "{1: 3, 2: 1, 4: 1}\n"
     ]
    }
   ],
   "source": [
    "fxc.put(1,  10)\n",
    "fxc.dump_freq()\n",
    "fxc.put(2,  20)\n",
    "fxc.dump_freq()\n",
    "fxc.put(1,  10)\n",
    "fxc.dump_freq()\n",
    "fxc.put(1,  10)\n",
    "fxc.dump_freq()\n",
    "fxc.put(4,  40)\n",
    "fxc.dump_freq()\n",
    "fxc.put(5,  50)"
   ]
  },
  {
   "cell_type": "code",
   "execution_count": 206,
   "id": "fc937afa-6521-4ecb-8ed2-b3fe6d16cf8f",
   "metadata": {},
   "outputs": [
    {
     "name": "stdout",
     "output_type": "stream",
     "text": [
      "{1: 3, 4: 1, 5: 1}\n"
     ]
    }
   ],
   "source": []
  },
  {
   "cell_type": "code",
   "execution_count": 216,
   "id": "4d96fd41-6779-4078-94f5-c7a80116e7f7",
   "metadata": {},
   "outputs": [
    {
     "data": {
      "text/plain": [
       "60"
      ]
     },
     "execution_count": 216,
     "metadata": {},
     "output_type": "execute_result"
    }
   ],
   "source": [
    "fxc.get(1)"
   ]
  },
  {
   "cell_type": "markdown",
   "id": "e105d22e-928a-476a-b521-0b0f672376a6",
   "metadata": {},
   "source": [
    "**Tarea 1: Probar desde 1 hasta n tal que Elias_Gamma_Coding(n) requiera más bits que Binary(n)**"
   ]
  },
  {
   "cell_type": "markdown",
   "id": "8f310089-8253-4e71-9875-0b257307b4e9",
   "metadata": {},
   "source": [
    "### Pruebas simples con VByte"
   ]
  },
  {
   "cell_type": "markdown",
   "id": "65313a9e-6fc5-48c9-a4fc-697679675f35",
   "metadata": {},
   "source": [
    "**Tarea 3: Calcular en qué valor ocurre el siguiente salto en bytes (de 2 a 3)**"
   ]
  },
  {
   "cell_type": "markdown",
   "id": "16ce2b26-fa54-4b03-a7d0-49e2c56799bf",
   "metadata": {},
   "source": [
    "### Ejemplo con Bit Packing"
   ]
  }
 ],
 "metadata": {
  "kernelspec": {
   "display_name": "Python 3 (ipykernel)",
   "language": "python",
   "name": "python3"
  },
  "language_info": {
   "codemirror_mode": {
    "name": "ipython",
    "version": 3
   },
   "file_extension": ".py",
   "mimetype": "text/x-python",
   "name": "python",
   "nbconvert_exporter": "python",
   "pygments_lexer": "ipython3",
   "version": "3.11.4"
  }
 },
 "nbformat": 4,
 "nbformat_minor": 5
}
